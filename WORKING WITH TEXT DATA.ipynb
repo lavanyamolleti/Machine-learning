{
 "cells": [
  {
   "cell_type": "code",
   "execution_count": null,
   "id": "28bf597f",
   "metadata": {},
   "outputs": [],
   "source": [
    "########these functions ignore (or exclude) missing/NaN values.convert the Series Object to String Object and then perform the operation.\n",
    "#  1.lower():Converts strings in the Series/Index to lower case.\n",
    "\n",
    "#2.upper():Converts strings in the Series/Index to upper case.\n",
    "\n",
    "#3.len():Computes String length().\n",
    "\n",
    "#4.strip():Helps strip whitespace(including newline) from each string in the Series/index from both the sides.\n",
    "\n",
    "#5.split(' '):Splits each string with the given pattern.\n",
    "\n",
    "#6.cat(sep=' '):Concatenates the series/index elements with given separator.\n",
    "\n",
    "#7.get_dummies():Returns the DataFrame with One-Hot Encoded values.\n",
    "\n",
    "#8.contains(pattern):Returns a Boolean value True for each element if the substring contains in the element, else False.\n",
    "\n",
    "#9.replace(a,b):Replaces the value a with the value b.\n",
    "\n",
    "#10.repeat(value):Repeats each element with specified number of times.\n",
    "\n",
    "#11.count(pattern):Returns count of appearance of pattern in each element.\n",
    "\n",
    "#12.startswith(pattern):Returns true if the element in the Series/Index starts with the pattern.\n",
    "\n",
    "#13.endswith(pattern):Returns true if the element in the Series/Index ends with the pattern.\n",
    "\n",
    "#14.find(pattern):Returns the first position of the first occurrence of the pattern.\"-1\" indicates that there no such pattern available in the element.\n",
    "\n",
    "#15.findall(pattern):Returns a list of all occurrence of the pattern.Null list([ ]) indicates that there is no such pattern available in the element.\n",
    "\n",
    "#16.swapcase:Swaps the case lower/upper.\n",
    "\n",
    "#17.islower():Checks whether all characters in each string in the Series/Index in lower case or not. Returns Boolean\n",
    "\n",
    "#18.isupper():Checks whether all characters in each string in the Series/Index in upper case or not. Returns Boolean.\n",
    "\n",
    "#19.isnumeric():Checks whether all characters in each string in the Series/Index are numeric. Returns Boolean.\n",
    "\n",
    "  "
   ]
  },
  {
   "cell_type": "code",
   "execution_count": null,
   "id": "bfea39e2",
   "metadata": {},
   "outputs": [],
   "source": [
    "#### syntax: varname.string.f/n()"
   ]
  },
  {
   "cell_type": "code",
   "execution_count": 6,
   "id": "6073f1de",
   "metadata": {},
   "outputs": [
    {
     "name": "stdout",
     "output_type": "stream",
     "text": [
      "0    Tom  William RickJohnAlber@t\n",
      "dtype: object\n",
      "Split Pattern:\n",
      "0    [, T, o, m,  ,  , W, i, l, l, i, a, m,  , R, i...\n",
      "dtype: object\n"
     ]
    }
   ],
   "source": [
    "import pandas as pd\n",
    "import numpy as np\n",
    "s = pd.Series(['Tom ' ' William Rick' 'John' 'Alber@t'])\n",
    "print (s)\n",
    "print (\"Split Pattern:\")\n",
    "print (s.str.split(''))"
   ]
  },
  {
   "cell_type": "code",
   "execution_count": 8,
   "id": "f348b0be",
   "metadata": {},
   "outputs": [
    {
     "name": "stdout",
     "output_type": "stream",
     "text": [
      "0             Tom \n",
      "1     William Rick\n",
      "2             John\n",
      "3          Alber@t\n",
      "dtype: object\n",
      "Split Pattern:\n",
      "0                               [, T, o, m,  , ]\n",
      "1    [,  , W, i, l, l, i, a, m,  , R, i, c, k, ]\n",
      "2                               [, J, o, h, n, ]\n",
      "3                      [, A, l, b, e, r, @, t, ]\n",
      "dtype: object\n"
     ]
    }
   ],
   "source": [
    "import pandas as pd\n",
    "import numpy as np\n",
    "s = pd.Series(['Tom ', ' William Rick', 'John', 'Alber@t'])\n",
    "print (s)\n",
    "print (\"Split Pattern:\")\n",
    "print (s.str.split(''))"
   ]
  },
  {
   "cell_type": "code",
   "execution_count": 18,
   "id": "ef2087fe",
   "metadata": {},
   "outputs": [
    {
     "name": "stdout",
     "output_type": "stream",
     "text": [
      "0             Tom \n",
      "1     William Rick\n",
      "2             John\n",
      "3          Alber@t\n",
      "dtype: object\n",
      "Split Pattern:\n",
      "0              [Tom, ]\n",
      "1    [, William, Rick]\n",
      "2               [John]\n",
      "3            [Alber@t]\n",
      "dtype: object\n"
     ]
    }
   ],
   "source": [
    "import pandas as pd\n",
    "import numpy as np\n",
    "s = pd.Series(['Tom ', ' William Rick', 'John', 'Alber@t'])\n",
    "print (s)\n",
    "print (\"Split Pattern:\")\n",
    "print (s.str.split( ' '))"
   ]
  },
  {
   "cell_type": "code",
   "execution_count": 19,
   "id": "408070f2",
   "metadata": {},
   "outputs": [
    {
     "name": "stdout",
     "output_type": "stream",
     "text": [
      "    William Rick  Alber@t  John  Tom \n",
      "0              0        0     0     1\n",
      "1              1        0     0     0\n",
      "2              0        0     1     0\n",
      "3              0        1     0     0\n"
     ]
    }
   ],
   "source": [
    "import pandas as pd\n",
    "import numpy as np\n",
    "\n",
    "s = pd.Series(['Tom ', ' William Rick', 'John', 'Alber@t'])\n",
    "\n",
    "print (s.str.get_dummies())"
   ]
  },
  {
   "cell_type": "code",
   "execution_count": 20,
   "id": "a62d3b21",
   "metadata": {},
   "outputs": [
    {
     "data": {
      "text/plain": [
       "0             Tom \n",
       "1     William Rick\n",
       "2             John\n",
       "3          Alber@t\n",
       "dtype: object"
      ]
     },
     "execution_count": 20,
     "metadata": {},
     "output_type": "execute_result"
    }
   ],
   "source": [
    "s"
   ]
  },
  {
   "cell_type": "code",
   "execution_count": 21,
   "id": "8fd787f4",
   "metadata": {},
   "outputs": [],
   "source": [
    "#Import the necessary modules\n",
    "import random\n",
    "from tkinter import messagebox\n",
    "from tkinter import *\n",
    "#Password generator function\n",
    "def generate_password():\n",
    "  try:\n",
    "    repeat = int(repeat_entry.get())\n",
    "    length = int(length_entry.get())\n",
    "  except:\n",
    "    messagebox.showerror(message=\"Please key in the required inputs\")\n",
    "    return\n",
    "  #Check if user allows repetition of characters\n",
    "  if repeat == 1:\n",
    "    password = random.sample(character_string,length)\n",
    "  else:\n",
    "    password = random.choices(character_string,k=length)\n",
    "  #Since the returned value is a list, we convert to a sting using join\n",
    "  password=''.join(password)\n",
    "  #Declare a string variable\n",
    "  password_v = StringVar()\n",
    "  password=\"Created password: \"+str(password)\n",
    "  #Assign the password to the declared string variables\n",
    "  password_v.set(password)\n",
    "  #Create a read only entry box to view the output, position using place\n",
    "  password_label = Entry(password_gen, bd=0, bg=\"gray85\", textvariable=password_v, state=\"readonly\")\n",
    "  password_label.place(x=10, y=140, height=50, width=320)\n",
    "\n",
    "#Define a string containing letters, symbols and numbers\n",
    "character_string = \"ABCDEFGHIJKLMNOPQRSTUVWXYZabcdefghijklmnopqrstuvwxyz0123456789!#$%&'()*+,-./:;<=>?@[\\]^_`{|}~\"\n",
    "\n",
    "#Define the user interface\n",
    "password_gen = Tk()\n",
    "password_gen.geometry(\"350x200\")\n",
    "password_gen.title(\" Password Generator\")\n",
    "\n",
    "#Mention the title of the app\n",
    "title_label = Label(password_gen, text=\" Password Generator\", font=('Ubuntu Mono',12))\n",
    "title_label.pack()\n",
    "\n",
    "#Read length \n",
    "length_label = Label(password_gen, text=\"Enter length of password: \")\n",
    "length_label.place(x=20,y=30)\n",
    "length_entry = Entry(password_gen, width=3)\n",
    "length_entry.place(x=190,y=30)\n",
    "#Read repetition\n",
    "repeat_label = Label(password_gen, text=\"Repetition? 1: no repetition, 2: otherwise: \")\n",
    "repeat_label.place(x=20,y=60)\n",
    "repeat_entry = Entry(password_gen, width=3)\n",
    "repeat_entry.place(x=300,y=60)\n",
    "#Generate password\n",
    "password_button = Button(password_gen, text=\"Generate Password\", command=generate_password)\n",
    "password_button.place(x=100,y=100)\n",
    "#Exit and close the app\n",
    "password_gen.mainloop()"
   ]
  },
  {
   "cell_type": "code",
   "execution_count": 22,
   "id": "4debd7b8",
   "metadata": {},
   "outputs": [
    {
     "name": "stdout",
     "output_type": "stream",
     "text": [
      "No solution found.\n"
     ]
    }
   ],
   "source": [
    "class State:\n",
    "    def __init__(self, missionaries, cannibals, boat_position):\n",
    "        self.missionaries = missionaries\n",
    "        self.cannibals = cannibals\n",
    "        self.boat_position = boat_position\n",
    "\n",
    "    def __str__(self):\n",
    "        return f\"({self.missionaries}, {self.cannibals}, {self.boat_position})\"\n",
    "\n",
    "\n",
    "def is_valid(state):\n",
    "    return (\n",
    "        0 <= state.missionaries <= 3\n",
    "        and 0 <= state.cannibals <= 3\n",
    "        and 0 <= state.boat_position <= 1\n",
    "        and (\n",
    "            state.missionaries >= state.cannibals\n",
    "            or state.missionaries == 0\n",
    "        )\n",
    "        and (\n",
    "            3 - state.missionaries >= 3 - state.cannibals\n",
    "            or state.missionaries == 3\n",
    "        )\n",
    "    )\n",
    "\n",
    "\n",
    "def successors(state):\n",
    "    moves = [(1, 0), (2, 0), (0, 1), (0, 2), (1, 1)]\n",
    "\n",
    "    for m, c in moves:\n",
    "        new_state = State(\n",
    "            state.missionaries + m * (-1) ** state.boat_position,\n",
    "            state.cannibals + c * (-1) ** state.boat_position,\n",
    "            1 - state.boat_position,\n",
    "        )\n",
    "\n",
    "        if is_valid(new_state):\n",
    "            yield new_state\n",
    "\n",
    "\n",
    "def depth_first_search():\n",
    "    start_state = State(3, 3, 0)\n",
    "    goal_state = State(0, 0, 1)\n",
    "\n",
    "    stack = [(start_state, [])]\n",
    "    visited = set()\n",
    "\n",
    "    while stack:\n",
    "        current_state, path = stack.pop()\n",
    "\n",
    "        if current_state == goal_state:\n",
    "            return path + [current_state]\n",
    "\n",
    "        if current_state not in visited:\n",
    "            visited.add(current_state)\n",
    "\n",
    "            for successor in successors(current_state):\n",
    "                stack.append((successor, path + [current_state]))\n",
    "\n",
    "    return None\n",
    "\n",
    "\n",
    "def print_solution(solution):\n",
    "    for i, state in enumerate(solution):\n",
    "        print(f\"Step {i + 1}: {state}\")\n",
    "\n",
    "\n",
    "if __name__ == \"__main__\":\n",
    "    solution = depth_first_search()\n",
    "\n",
    "    if solution:\n",
    "        print(\"Solution found:\")\n",
    "        print_solution(solution)\n",
    "    else:\n",
    "        print(\"No solution found.\")\n"
   ]
  },
  {
   "cell_type": "code",
   "execution_count": 23,
   "id": "e43c5e34",
   "metadata": {},
   "outputs": [
    {
     "name": "stdout",
     "output_type": "stream",
     "text": [
      "No solution found.\n"
     ]
    }
   ],
   "source": [
    "if __name__ == \"__main__\":\n",
    "    start_state = State(3, 3, 0)\n",
    "    goal_state = State(0, 0, 1)\n",
    "\n",
    "    solution = depth_first_search()\n",
    "\n",
    "    if solution:\n",
    "        print(\"Solution found:\")\n",
    "        print_solution(solution)\n",
    "    else:\n",
    "        print(\"No solution found.\")\n"
   ]
  },
  {
   "cell_type": "code",
   "execution_count": null,
   "id": "5da357a0",
   "metadata": {},
   "outputs": [],
   "source": []
  }
 ],
 "metadata": {
  "kernelspec": {
   "display_name": "Python 3 (ipykernel)",
   "language": "python",
   "name": "python3"
  },
  "language_info": {
   "codemirror_mode": {
    "name": "ipython",
    "version": 3
   },
   "file_extension": ".py",
   "mimetype": "text/x-python",
   "name": "python",
   "nbconvert_exporter": "python",
   "pygments_lexer": "ipython3",
   "version": "3.11.5"
  }
 },
 "nbformat": 4,
 "nbformat_minor": 5
}
