{
 "cells": [
  {
   "cell_type": "code",
   "execution_count": 1,
   "id": "0a1edd3a",
   "metadata": {},
   "outputs": [],
   "source": [
    "# STATISTICAL METHODS\n",
    "#1.Percent_change:Series, DatFrames and Panel, all have the function pct_change(). \n",
    "#This function compares every element with its prior element and computes the change percentage"
   ]
  },
  {
   "cell_type": "code",
   "execution_count": 2,
   "id": "773f9f0e",
   "metadata": {},
   "outputs": [
    {
     "name": "stdout",
     "output_type": "stream",
     "text": [
      "0         NaN\n",
      "1    1.000000\n",
      "2    0.500000\n",
      "3    0.333333\n",
      "4    0.250000\n",
      "5   -0.200000\n",
      "dtype: float64\n",
      "           0         1\n",
      "0        NaN       NaN\n",
      "1   0.741803  5.427588\n",
      "2  -1.038426 -1.515469\n",
      "3  16.261826 -1.203382\n",
      "4  -0.723543 -1.325475\n"
     ]
    }
   ],
   "source": [
    "import pandas as pd\n",
    "import numpy as np\n",
    "s = pd.Series([1,2,3,4,5,4])\n",
    "print (s.pct_change())\n",
    "\n",
    "df = pd.DataFrame(np.random.randn(5, 2))\n",
    "print (df.pct_change())\n",
    "#By default, the pct_change() operates on columns; if you want to apply the same row wise, then use axis=1() argument."
   ]
  },
  {
   "cell_type": "code",
   "execution_count": 3,
   "id": "31fdecf2",
   "metadata": {},
   "outputs": [],
   "source": [
    "#Covariance: it is applied on series data. \n",
    "#The Series object has a method cov to compute covariance between series objects. NA will be excluded automatically.\n",
    "#Covariance method when applied on a DataFrame, computes cov between all the columns.\n"
   ]
  },
  {
   "cell_type": "code",
   "execution_count": 4,
   "id": "2a073a2e",
   "metadata": {},
   "outputs": [
    {
     "name": "stdout",
     "output_type": "stream",
     "text": [
      "-0.07249021079736448\n"
     ]
    }
   ],
   "source": [
    "import pandas as pd\n",
    "import numpy as np\n",
    "s1 = pd.Series(np.random.randn(10))\n",
    "s2 = pd.Series(np.random.randn(10))\n",
    "print (s1.cov(s2))\n"
   ]
  },
  {
   "cell_type": "code",
   "execution_count": 5,
   "id": "af16f33f",
   "metadata": {},
   "outputs": [
    {
     "name": "stdout",
     "output_type": "stream",
     "text": [
      "-0.2256676955824471\n",
      "          a         b         c         d         e\n",
      "a  0.535039 -0.225668  0.179650  0.118514  0.231164\n",
      "b -0.225668  0.658760  0.149849 -0.407343 -0.183978\n",
      "c  0.179650  0.149849  1.742079 -0.042460  0.624902\n",
      "d  0.118514 -0.407343 -0.042460  1.102836  0.409058\n",
      "e  0.231164 -0.183978  0.624902  0.409058  0.713074\n"
     ]
    }
   ],
   "source": [
    "import pandas as pd\n",
    "import numpy as np\n",
    "frame = pd.DataFrame(np.random.randn(10, 5), columns=['a', 'b', 'c', 'd', 'e'])\n",
    "print (frame['a'].cov(frame['b']))\n",
    "print (frame.cov())#Note − Observe the cov between a and b column in the first statement and the same is the value returned by cov on DataFrame."
   ]
  },
  {
   "cell_type": "code",
   "execution_count": 6,
   "id": "15d76c82",
   "metadata": {},
   "outputs": [],
   "source": [
    "#Correlation:Correlation shows the linear relationship between any two array of values (series). \n",
    "#There are multiple methods to compute the correlation like pearson(default), spearman and kendall."
   ]
  },
  {
   "cell_type": "code",
   "execution_count": 7,
   "id": "dee13422",
   "metadata": {},
   "outputs": [
    {
     "name": "stdout",
     "output_type": "stream",
     "text": [
      "-0.19595940901135298\n",
      "          a         b         c         d         e\n",
      "a  1.000000 -0.195959  0.161971 -0.052913  0.346058\n",
      "b -0.195959  1.000000  0.673833 -0.084982 -0.649481\n",
      "c  0.161971  0.673833  1.000000  0.243843 -0.595786\n",
      "d -0.052913 -0.084982  0.243843  1.000000 -0.091582\n",
      "e  0.346058 -0.649481 -0.595786 -0.091582  1.000000\n"
     ]
    }
   ],
   "source": [
    "import pandas as pd\n",
    "import numpy as np\n",
    "frame = pd.DataFrame(np.random.randn(10, 5), columns=['a', 'b', 'c', 'd', 'e'])\n",
    "\n",
    "print (frame['a'].corr(frame['b']))\n",
    "print (frame.corr())\n",
    "#If any non-numeric column is present in the DataFrame, it is excluded automatically.\n",
    "#The diagonal elements of a correlation matrix are always equal to 1 .\n",
    "#because they represent the correlation between a variable and itself.\n",
    "#Since a variable is perfectly correlated with itself, the correlation coefficient is 1\n",
    "####### observe output carefully u get each value repeated by diagonally ### "
   ]
  },
  {
   "cell_type": "code",
   "execution_count": 8,
   "id": "a2cdc5bf",
   "metadata": {},
   "outputs": [],
   "source": [
    "#Data Ranking: it produces ranking for each element in the array of elements. In case of ties, assigns the mean rank."
   ]
  },
  {
   "cell_type": "code",
   "execution_count": 10,
   "id": "fcf010a8",
   "metadata": {},
   "outputs": [
    {
     "ename": "AttributeError",
     "evalue": "module 'numpy.random' has no attribute 'np'",
     "output_type": "error",
     "traceback": [
      "\u001b[1;31m---------------------------------------------------------------------------\u001b[0m",
      "\u001b[1;31mAttributeError\u001b[0m                            Traceback (most recent call last)",
      "Cell \u001b[1;32mIn[10], line 4\u001b[0m\n\u001b[0;32m      1\u001b[0m \u001b[38;5;28;01mimport\u001b[39;00m \u001b[38;5;21;01mpandas\u001b[39;00m \u001b[38;5;28;01mas\u001b[39;00m \u001b[38;5;21;01mpd\u001b[39;00m\n\u001b[0;32m      2\u001b[0m \u001b[38;5;28;01mimport\u001b[39;00m \u001b[38;5;21;01mnumpy\u001b[39;00m \u001b[38;5;28;01mas\u001b[39;00m \u001b[38;5;21;01mnp\u001b[39;00m\n\u001b[1;32m----> 4\u001b[0m s \u001b[38;5;241m=\u001b[39m pd\u001b[38;5;241m.\u001b[39mSeries(np\u001b[38;5;241m.\u001b[39mrandom\u001b[38;5;241m.\u001b[39mnp\u001b[38;5;241m.\u001b[39mrandom\u001b[38;5;241m.\u001b[39mrandn(\u001b[38;5;241m5\u001b[39m), index\u001b[38;5;241m=\u001b[39m\u001b[38;5;28mlist\u001b[39m(\u001b[38;5;124m'\u001b[39m\u001b[38;5;124mabcde\u001b[39m\u001b[38;5;124m'\u001b[39m))\n\u001b[0;32m      5\u001b[0m s[\u001b[38;5;124m'\u001b[39m\u001b[38;5;124md\u001b[39m\u001b[38;5;124m'\u001b[39m] \u001b[38;5;241m=\u001b[39m s[\u001b[38;5;124m'\u001b[39m\u001b[38;5;124mb\u001b[39m\u001b[38;5;124m'\u001b[39m] \u001b[38;5;66;03m# so there's a tie\u001b[39;00m\n\u001b[0;32m      6\u001b[0m \u001b[38;5;28mprint\u001b[39m (s\u001b[38;5;241m.\u001b[39mrank())\n",
      "\u001b[1;31mAttributeError\u001b[0m: module 'numpy.random' has no attribute 'np'"
     ]
    }
   ],
   "source": [
    "import pandas as pd\n",
    "import numpy as np\n",
    "\n",
    "s = pd.Series(np.random.np.random.randn(5), index=list('abcde'))\n",
    "s['d'] = s['b'] # so there's a tie\n",
    "print (s.rank())"
   ]
  },
  {
   "cell_type": "code",
   "execution_count": 12,
   "id": "715e17cf",
   "metadata": {},
   "outputs": [
    {
     "name": "stdout",
     "output_type": "stream",
     "text": [
      "a    3.0\n",
      "b    1.5\n",
      "c    4.0\n",
      "d    1.5\n",
      "e    5.0\n",
      "dtype: float64\n"
     ]
    }
   ],
   "source": [
    "import pandas as pd\n",
    "import numpy as np\n",
    "\n",
    "s = pd.Series(np.random.randn(5), index=list('abcde'))\n",
    "s['d'] = s['b'] # so there's a tie\n",
    "print(s.rank())\n"
   ]
  },
  {
   "cell_type": "code",
   "execution_count": 13,
   "id": "050222e9",
   "metadata": {},
   "outputs": [],
   "source": [
    "#Rank optionally takes a parameter ascending which by default is true\n",
    "#when false, data is reverse-ranked, with larger values assigned a smaller rank.\n",
    "#Rank supports different tie-breaking methods, specified with the method parameter −\n",
    "\n",
    "#average − average rank of tied group\n",
    "\n",
    "#min − lowest rank in the group\n",
    "\n",
    "#max − highest rank in the group\n",
    "\n",
    "#first − ranks assigned in the order they appear in the array"
   ]
  },
  {
   "cell_type": "code",
   "execution_count": 18,
   "id": "edf0e448",
   "metadata": {},
   "outputs": [],
   "source": [
    "#  WINDOWING F/N:For working on numerical data, Pandas provide few variants like rolling, expanding and exponentially moving weights for window statistics. \n",
    "#Among these are sum, mean, median, variance, covariance, correlation, etc."
   ]
  },
  {
   "cell_type": "code",
   "execution_count": null,
   "id": "3f0de1f0",
   "metadata": {},
   "outputs": [],
   "source": [
    "#.rolling() Function:This function can be applied on a series of data.\n",
    "#Specify the window=n argument and apply the appropriate statistical function on top of it."
   ]
  },
  {
   "cell_type": "code",
   "execution_count": 25,
   "id": "e4ba99e9",
   "metadata": {},
   "outputs": [
    {
     "name": "stdout",
     "output_type": "stream",
     "text": [
      "                   A         B         C         D\n",
      "2024-01-01       NaN       NaN       NaN       NaN\n",
      "2024-01-02       NaN       NaN       NaN       NaN\n",
      "2024-01-03  1.193828  1.126379 -0.624919 -0.218259\n",
      "2024-01-04  0.438079  0.746799 -0.494509 -0.067636\n",
      "2024-01-05  0.478356 -0.175695 -1.094388  0.626341\n",
      "2024-01-06  0.137956  0.300351  0.260872  0.876813\n",
      "2024-01-07  0.896611  0.156480  0.432266  0.849598\n",
      "2024-01-08  0.261022  0.109038  1.150900  0.013660\n"
     ]
    }
   ],
   "source": [
    "import pandas as pd\n",
    "import numpy as np\n",
    "\n",
    "df = pd.DataFrame(np.random.randn(8, 4),\n",
    "   index = pd.date_range('1/1/2024', periods=8),\n",
    "   columns = ['A', 'B', 'C', 'D'])\n",
    "print (df.rolling(window=3).mean())\n",
    "#Note − Since the window size is 3, for first two elements there are nulls and from third the value will be the average of the n, n-1 and n-2 elements. "
   ]
  },
  {
   "cell_type": "code",
   "execution_count": 26,
   "id": "04b5fe8a",
   "metadata": {},
   "outputs": [],
   "source": [
    "#.expanding() Function:This function can be applied on a series of data.\n",
    "#Specify the min_periods=n argument and apply the appropriate statistical function on top of it."
   ]
  },
  {
   "cell_type": "code",
   "execution_count": 27,
   "id": "fab46427",
   "metadata": {},
   "outputs": [
    {
     "name": "stdout",
     "output_type": "stream",
     "text": [
      "                   A         B         C         D\n",
      "2000-01-01       NaN       NaN       NaN       NaN\n",
      "2000-01-02       NaN       NaN       NaN       NaN\n",
      "2000-01-03 -0.558571 -0.631608  0.674826 -0.733918\n",
      "2000-01-04 -0.435378 -0.219075  0.485665 -0.338598\n",
      "2000-01-05 -0.306670 -0.069753  0.548031 -0.385586\n",
      "2000-01-06 -0.498351  0.165229  0.518358 -0.410195\n",
      "2000-01-07 -0.689785  0.259502  0.422162 -0.188060\n",
      "2000-01-08 -0.757897  0.206216  0.618980 -0.197241\n",
      "2000-01-09 -0.722207  0.173096  0.559205 -0.129156\n",
      "2000-01-10 -0.607080  0.043606  0.504617 -0.106571\n"
     ]
    }
   ],
   "source": [
    "import pandas as pd\n",
    "import numpy as np\n",
    "\n",
    "df = pd.DataFrame(np.random.randn(10, 4),\n",
    "   index = pd.date_range('1/1/2000', periods=10),\n",
    "   columns = ['A', 'B', 'C', 'D'])\n",
    "print (df.expanding(min_periods=3).mean())"
   ]
  },
  {
   "cell_type": "code",
   "execution_count": 28,
   "id": "751ff82e",
   "metadata": {},
   "outputs": [],
   "source": [
    "#.ewm() Function:ewm is applied on a series of data. \n",
    "#Specify any of the com, span, halflife argument and apply the appropriate statistical function on top of it. \n",
    "#It assigns the weights exponentially."
   ]
  },
  {
   "cell_type": "code",
   "execution_count": 30,
   "id": "f281787a",
   "metadata": {},
   "outputs": [
    {
     "name": "stdout",
     "output_type": "stream",
     "text": [
      "                   A         B         C         D\n",
      "2000-01-01 -0.688783 -0.141063  0.525833 -1.043654\n",
      "2000-01-02 -0.950250 -0.096335 -0.048707 -0.045802\n",
      "2000-01-03 -1.262069 -0.181228  0.286118 -0.701791\n",
      "2000-01-04 -1.122811  0.741285  0.368771 -1.020360\n",
      "2000-01-05 -1.002325  0.448934  0.146720 -0.785669\n",
      "2000-01-06 -0.854799  0.702044 -0.659233 -0.630244\n",
      "2000-01-07 -0.387158  0.527020 -0.118759 -0.071676\n",
      "2000-01-08  0.205154  0.242930  0.253761 -0.198961\n",
      "2000-01-09 -0.722618  0.708904  0.130142  0.249285\n",
      "2000-01-10 -0.658006  0.349425  0.075546 -0.438815\n"
     ]
    }
   ],
   "source": [
    "import pandas as pd\n",
    "import numpy as np\n",
    " \n",
    "df = pd.DataFrame(np.random.randn(10, 4),\n",
    "   index = pd.date_range('1/1/2000', periods=10),\n",
    "   columns = ['A', 'B', 'C', 'D'])\n",
    "print (df.ewm(com=1.5).mean())"
   ]
  },
  {
   "cell_type": "code",
   "execution_count": null,
   "id": "f3035f80",
   "metadata": {},
   "outputs": [],
   "source": []
  }
 ],
 "metadata": {
  "kernelspec": {
   "display_name": "Python 3 (ipykernel)",
   "language": "python",
   "name": "python3"
  },
  "language_info": {
   "codemirror_mode": {
    "name": "ipython",
    "version": 3
   },
   "file_extension": ".py",
   "mimetype": "text/x-python",
   "name": "python",
   "nbconvert_exporter": "python",
   "pygments_lexer": "ipython3",
   "version": "3.11.5"
  }
 },
 "nbformat": 4,
 "nbformat_minor": 5
}
