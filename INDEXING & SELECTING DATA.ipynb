{
 "cells": [
  {
   "cell_type": "code",
   "execution_count": 1,
   "id": "674d2625",
   "metadata": {},
   "outputs": [],
   "source": [
    "##API is composed of five relevant functions. They are −\n",
    "\n",
    "#1.get_option()\n",
    "#2.set_option()\n",
    "#3.reset_option()\n",
    "#4.describe_option()\n",
    "#5.option_context()"
   ]
  },
  {
   "cell_type": "code",
   "execution_count": 2,
   "id": "42fe2d1a",
   "metadata": {},
   "outputs": [],
   "source": [
    "##get_option(param)\n",
    "# parameters:1.display.max_rows-->get_option(\"display.max_rows\")\n",
    "             #2.display.max_columns-->get_option(\"display.max_columns\")\n",
    "#####set_option(param,value):set_option takes two arguments and sets the value to the parameter.\n",
    "#Using set_option(), we can change the default number of rows to be displayed."
   ]
  },
  {
   "cell_type": "code",
   "execution_count": 3,
   "id": "d2da8eae",
   "metadata": {},
   "outputs": [],
   "source": [
    "##reset_option(param):reset_option takes an argument and sets the value back to the default value.\n",
    "\n",
    "#1.display.max_rows:Using reset_option(), we can change the value back to the default number of rows to be displayed."
   ]
  },
  {
   "cell_type": "code",
   "execution_count": 7,
   "id": "1b957a60",
   "metadata": {},
   "outputs": [],
   "source": [
    "#describe_option(param):describe_option prints the description of the argument."
   ]
  },
  {
   "cell_type": "code",
   "execution_count": 8,
   "id": "229cde4f",
   "metadata": {},
   "outputs": [
    {
     "name": "stdout",
     "output_type": "stream",
     "text": [
      "display.max_rows : int\n",
      "    If max_rows is exceeded, switch to truncate view. Depending on\n",
      "    `large_repr`, objects are either centrally truncated or printed as\n",
      "    a summary view. 'None' value means unlimited.\n",
      "\n",
      "    In case python/IPython is running in a terminal and `large_repr`\n",
      "    equals 'truncate' this can be set to 0 and pandas will auto-detect\n",
      "    the height of the terminal and print a truncated object which fits\n",
      "    the screen height. The IPython notebook, IPython qtconsole, or\n",
      "    IDLE do not run in a terminal and hence it is not possible to do\n",
      "    correct auto-detection.\n",
      "    [default: 60] [currently: 60]\n"
     ]
    }
   ],
   "source": [
    "import pandas as pd\n",
    "pd.describe_option(\"display.max_rows\")"
   ]
  },
  {
   "cell_type": "code",
   "execution_count": 26,
   "id": "e7b0a25e",
   "metadata": {},
   "outputs": [],
   "source": [
    "##option_context():option_context context manager is used to set the option in with statement temporarily. Option values are restored automatically when you exit the with block\n",
    "# frequently used parameters:\n",
    "#1.display.expand_frame_reprDisplays DataFrames to Stretch Pages\n",
    "#2.display.max_colwidth:Displays maximum column width\n",
    "#3.display.precision:Displays precision for decimal numbers"
   ]
  },
  {
   "cell_type": "code",
   "execution_count": 27,
   "id": "aff9bd18",
   "metadata": {},
   "outputs": [],
   "source": [
    "# INDEXING & SELCETING DATA\n",
    "#1\t.loc():Label based\n",
    "\n",
    "#2\t.iloc():Integer based\n",
    "\n",
    "#3\t.ix():Both Label and Integer based"
   ]
  },
  {
   "cell_type": "code",
   "execution_count": null,
   "id": "763a53a6",
   "metadata": {},
   "outputs": [],
   "source": [
    "#loc takes two single/list/range operator separated by ','. \n",
    "#The first one indicates the row and the second one indicates columns.\n",
    "#.loc() has multiple access methods like −\n",
    "#--A single scalar label\n",
    "#--A list of labels\n",
    "#--A slice object\n",
    "#--A Boolean array"
   ]
  },
  {
   "cell_type": "code",
   "execution_count": 11,
   "id": "99069456",
   "metadata": {},
   "outputs": [
    {
     "name": "stdout",
     "output_type": "stream",
     "text": [
      "a   -2.041495\n",
      "b   -0.165291\n",
      "c   -0.177969\n",
      "d    0.912770\n",
      "e    0.358492\n",
      "f   -2.767531\n",
      "g   -2.931865\n",
      "h   -0.865648\n",
      "Name: A, dtype: float64\n"
     ]
    }
   ],
   "source": [
    "#import the pandas library and aliasing as pd\n",
    "import pandas as pd                             ####LOC\n",
    "import numpy as np\n",
    "\n",
    "df = pd.DataFrame(np.random.randn(8, 4),\n",
    "index = ['a','b','c','d','e','f','g','h'], columns = ['A', 'B', 'C', 'D'])\n",
    "\n",
    "#select all rows for a specific column\n",
    "print (df.loc[:,'A'])"
   ]
  },
  {
   "cell_type": "code",
   "execution_count": 12,
   "id": "11d28176",
   "metadata": {},
   "outputs": [
    {
     "name": "stdout",
     "output_type": "stream",
     "text": [
      "a   -1.643735\n",
      "b   -0.894941\n",
      "c    1.822214\n",
      "d   -0.341163\n",
      "e   -1.284853\n",
      "f    0.593735\n",
      "g   -0.852075\n",
      "h    0.991867\n",
      "Name: D, dtype: float64\n"
     ]
    }
   ],
   "source": [
    "#import the pandas library and aliasing as pd\n",
    "import pandas as pd\n",
    "import numpy as np\n",
    "\n",
    "df = pd.DataFrame(np.random.randn(8, 4),\n",
    "index = ['a','b','c','d','e','f','g','h'], columns = ['A', 'B', 'C', 'D'])\n",
    "\n",
    "#select all rows for a specific column\n",
    "print (df.loc[:,'D'])# colon indicates to select all rows"
   ]
  },
  {
   "cell_type": "code",
   "execution_count": 13,
   "id": "8705d5f6",
   "metadata": {},
   "outputs": [
    {
     "name": "stdout",
     "output_type": "stream",
     "text": [
      "          A         C\n",
      "a  0.728192  0.263762\n",
      "b  1.529400 -0.093859\n",
      "c -1.441422 -0.413817\n",
      "d  0.377765 -0.486537\n",
      "e -1.485059 -1.565259\n",
      "f -1.289592  0.244119\n",
      "g -0.875560 -0.838727\n",
      "h -0.650704 -0.793152\n"
     ]
    }
   ],
   "source": [
    "# import the pandas library and aliasing as pd\n",
    "import pandas as pd\n",
    "import numpy as np\n",
    "\n",
    "df = pd.DataFrame(np.random.randn(8, 4),\n",
    "index = ['a','b','c','d','e','f','g','h'], columns = ['A', 'B', 'C', 'D'])\n",
    "\n",
    "# Select all rows for multiple columns, say list[]\n",
    "print (df.loc[:,['A','C']])"
   ]
  },
  {
   "cell_type": "code",
   "execution_count": 15,
   "id": "148b7348",
   "metadata": {},
   "outputs": [
    {
     "name": "stdout",
     "output_type": "stream",
     "text": [
      "          A         C\n",
      "a -1.612788 -1.264385\n",
      "f -1.755847 -0.908489\n",
      "h -1.130796 -0.479412\n"
     ]
    }
   ],
   "source": [
    "# import the pandas library and aliasing as pd\n",
    "import pandas as pd\n",
    "import numpy as np\n",
    "\n",
    "df = pd.DataFrame(np.random.randn(8, 4),\n",
    "index = ['a','b','c','d','e','f','g','h'], columns = ['A', 'B', 'C', 'D'])\n",
    "\n",
    "# Select few rows for multiple columns, say list[]\n",
    "print (df.loc[['a','f','h'],['A','C']])"
   ]
  },
  {
   "cell_type": "code",
   "execution_count": 22,
   "id": "ccfedd16",
   "metadata": {},
   "outputs": [
    {
     "name": "stdout",
     "output_type": "stream",
     "text": [
      "Empty DataFrame\n",
      "Columns: [A, B, C, D]\n",
      "Index: []\n"
     ]
    }
   ],
   "source": [
    "# import the pandas library and aliasing as pd\n",
    "import pandas as pd\n",
    "import numpy as np\n",
    "\n",
    "df = pd.DataFrame(np.random.randn(8, 4),\n",
    "index = ['a','b','c','d','e','f','g','h'], columns = ['A', 'B', 'C', 'D'])\n",
    "\n",
    "# Select all rows for multiple columns, say list[]\n",
    "print (df.loc['A':'C'])"
   ]
  },
  {
   "cell_type": "code",
   "execution_count": 23,
   "id": "2062f4f1",
   "metadata": {},
   "outputs": [
    {
     "name": "stdout",
     "output_type": "stream",
     "text": [
      "          A         B         C         D\n",
      "a -0.615417  1.062489 -0.638016 -0.371730\n",
      "b -0.407464 -0.815572 -0.404562 -0.097104\n",
      "c -0.330157  0.423656  1.657584  0.688235\n"
     ]
    }
   ],
   "source": [
    "# import the pandas library and aliasing as pd\n",
    "import pandas as pd\n",
    "import numpy as np\n",
    "\n",
    "df = pd.DataFrame(np.random.randn(8, 4),\n",
    "index = ['a','b','c','d','e','f','g','h'], columns = ['A', 'B', 'C', 'D'])\n",
    "\n",
    "# Select all rows for multiple columns, say list[]\n",
    "print (df.loc['a':'c'])##middle colon indicates to select all col "
   ]
  },
  {
   "cell_type": "code",
   "execution_count": 24,
   "id": "8921a1ad",
   "metadata": {},
   "outputs": [
    {
     "name": "stdout",
     "output_type": "stream",
     "text": [
      "A    False\n",
      "B     True\n",
      "C     True\n",
      "D    False\n",
      "Name: a, dtype: bool\n"
     ]
    }
   ],
   "source": [
    "# import the pandas library and aliasing as pd\n",
    "import pandas as pd\n",
    "import numpy as np\n",
    "\n",
    "df = pd.DataFrame(np.random.randn(8, 4),\n",
    "index = ['a','b','c','d','e','f','g','h'], columns = ['A', 'B', 'C', 'D'])\n",
    "\n",
    "# for getting values with a boolean array\n",
    "print (df.loc['a']>0)"
   ]
  },
  {
   "cell_type": "code",
   "execution_count": 28,
   "id": "64ef55b0",
   "metadata": {},
   "outputs": [],
   "source": [
    "###.ILOC-----python and numpy, these are 0-based indexing.\n",
    "#1.An Integer\n",
    "#2.A list of integers\n",
    "#3.A range of values\n"
   ]
  },
  {
   "cell_type": "code",
   "execution_count": 29,
   "id": "70812f77",
   "metadata": {},
   "outputs": [
    {
     "name": "stdout",
     "output_type": "stream",
     "text": [
      "          A         B         C         D\n",
      "0  0.866914  0.181664 -2.493221 -2.162294\n",
      "1  0.060961  0.294092 -1.102543  0.082191\n",
      "2  0.668629  0.890581 -0.406150  0.344097\n",
      "3 -0.112050 -0.089807  0.417276  1.055636\n"
     ]
    }
   ],
   "source": [
    "# import the pandas library and aliasing as pd\n",
    "import pandas as pd\n",
    "import numpy as np\n",
    "\n",
    "df = pd.DataFrame(np.random.randn(8, 4), columns = ['A', 'B', 'C', 'D'])\n",
    "\n",
    "# select all rows for a specific column\n",
    "print (df.iloc[:4])"
   ]
  },
  {
   "cell_type": "code",
   "execution_count": 30,
   "id": "3240a9a8",
   "metadata": {},
   "outputs": [
    {
     "name": "stdout",
     "output_type": "stream",
     "text": [
      "          A         B         C         D\n",
      "0 -0.153985 -0.302357  1.528231 -0.021312\n",
      "1 -1.109305  2.477799  0.397721 -0.257454\n",
      "2 -0.366138 -0.342019  1.067620  0.756150\n",
      "3  0.562785 -0.103926 -0.219707  0.008288\n",
      "          C         D\n",
      "1  0.397721 -0.257454\n",
      "2  1.067620  0.756150\n",
      "3 -0.219707  0.008288\n",
      "4 -0.361471  0.044055\n"
     ]
    }
   ],
   "source": [
    "import pandas as pd\n",
    "import numpy as np\n",
    "\n",
    "df = pd.DataFrame(np.random.randn(8, 4), columns = ['A', 'B', 'C', 'D'])\n",
    "\n",
    "# Integer slicing\n",
    "print (df.iloc[:4])\n",
    "print (df.iloc[1:5, 2:4])# .iloc[rows range ,col range]"
   ]
  },
  {
   "cell_type": "code",
   "execution_count": 31,
   "id": "3c533ad1",
   "metadata": {},
   "outputs": [
    {
     "name": "stdout",
     "output_type": "stream",
     "text": [
      "          B         D\n",
      "1 -0.355155  0.097140\n",
      "3 -1.516721  0.407259\n",
      "5  0.429737 -0.943618\n",
      "          A         B         C         D\n",
      "1 -0.995013 -0.355155 -0.288631  0.097140\n",
      "2 -0.642747  0.107156 -0.393356  1.979788\n",
      "          B         C\n",
      "0  0.703340 -0.510727\n",
      "1 -0.355155 -0.288631\n",
      "2  0.107156 -0.393356\n",
      "3 -1.516721 -0.960761\n",
      "4  0.285390 -0.119006\n",
      "5  0.429737  0.830576\n",
      "6  0.639848  1.730136\n",
      "7  0.644504  1.361418\n"
     ]
    }
   ],
   "source": [
    "import pandas as pd\n",
    "import numpy as np\n",
    "\n",
    "df = pd.DataFrame(np.random.randn(8, 4), columns = ['A', 'B', 'C', 'D'])\n",
    "\n",
    "# Slicing through list of values\n",
    "print (df.iloc[[1, 3, 5], [1, 3]])# selective range of rows & col\n",
    "print (df.iloc[1:3, :])# only sel rows & all col\n",
    "print (df.iloc[:,1:3])# all rows &only sel col"
   ]
  },
  {
   "cell_type": "code",
   "execution_count": 32,
   "id": "2ca93b98",
   "metadata": {},
   "outputs": [],
   "source": [
    "#.ix()Besides pure label based and integer based. BUT NOW IT IS NOT IN USE INTHIS VERSION IT WAS USED IN V0.20\n",
    "#Pandas provides a hybrid method for selections and subsetting the object using the .ix() operator."
   ]
  },
  {
   "cell_type": "code",
   "execution_count": 33,
   "id": "4a28aa6a",
   "metadata": {},
   "outputs": [
    {
     "ename": "AttributeError",
     "evalue": "'DataFrame' object has no attribute 'ix'",
     "output_type": "error",
     "traceback": [
      "\u001b[1;31m---------------------------------------------------------------------------\u001b[0m",
      "\u001b[1;31mAttributeError\u001b[0m                            Traceback (most recent call last)",
      "\u001b[1;32m~\\AppData\\Local\\Temp\\ipykernel_1404\\2831662323.py\u001b[0m in \u001b[0;36m?\u001b[1;34m()\u001b[0m\n\u001b[0;32m      3\u001b[0m \u001b[1;33m\u001b[0m\u001b[0m\n\u001b[0;32m      4\u001b[0m \u001b[0mdf\u001b[0m \u001b[1;33m=\u001b[0m \u001b[0mpd\u001b[0m\u001b[1;33m.\u001b[0m\u001b[0mDataFrame\u001b[0m\u001b[1;33m(\u001b[0m\u001b[0mnp\u001b[0m\u001b[1;33m.\u001b[0m\u001b[0mrandom\u001b[0m\u001b[1;33m.\u001b[0m\u001b[0mrandn\u001b[0m\u001b[1;33m(\u001b[0m\u001b[1;36m8\u001b[0m\u001b[1;33m,\u001b[0m \u001b[1;36m4\u001b[0m\u001b[1;33m)\u001b[0m\u001b[1;33m,\u001b[0m \u001b[0mcolumns\u001b[0m \u001b[1;33m=\u001b[0m \u001b[1;33m[\u001b[0m\u001b[1;34m'A'\u001b[0m\u001b[1;33m,\u001b[0m \u001b[1;34m'B'\u001b[0m\u001b[1;33m,\u001b[0m \u001b[1;34m'C'\u001b[0m\u001b[1;33m,\u001b[0m \u001b[1;34m'D'\u001b[0m\u001b[1;33m]\u001b[0m\u001b[1;33m)\u001b[0m\u001b[1;33m\u001b[0m\u001b[1;33m\u001b[0m\u001b[0m\n\u001b[0;32m      5\u001b[0m \u001b[1;33m\u001b[0m\u001b[0m\n\u001b[0;32m      6\u001b[0m \u001b[1;31m# Integer slicing\u001b[0m\u001b[1;33m\u001b[0m\u001b[1;33m\u001b[0m\u001b[0m\n\u001b[1;32m----> 7\u001b[1;33m \u001b[0mprint\u001b[0m \u001b[1;33m(\u001b[0m\u001b[0mdf\u001b[0m\u001b[1;33m.\u001b[0m\u001b[0mix\u001b[0m\u001b[1;33m[\u001b[0m\u001b[1;33m:\u001b[0m\u001b[1;36m4\u001b[0m\u001b[1;33m]\u001b[0m\u001b[1;33m)\u001b[0m\u001b[1;33m\u001b[0m\u001b[1;33m\u001b[0m\u001b[0m\n\u001b[0m",
      "\u001b[1;32m~\\anaconda3\\Lib\\site-packages\\pandas\\core\\generic.py\u001b[0m in \u001b[0;36m?\u001b[1;34m(self, name)\u001b[0m\n\u001b[0;32m   5985\u001b[0m             \u001b[1;32mand\u001b[0m \u001b[0mname\u001b[0m \u001b[1;32mnot\u001b[0m \u001b[1;32min\u001b[0m \u001b[0mself\u001b[0m\u001b[1;33m.\u001b[0m\u001b[0m_accessors\u001b[0m\u001b[1;33m\u001b[0m\u001b[1;33m\u001b[0m\u001b[0m\n\u001b[0;32m   5986\u001b[0m             \u001b[1;32mand\u001b[0m \u001b[0mself\u001b[0m\u001b[1;33m.\u001b[0m\u001b[0m_info_axis\u001b[0m\u001b[1;33m.\u001b[0m\u001b[0m_can_hold_identifiers_and_holds_name\u001b[0m\u001b[1;33m(\u001b[0m\u001b[0mname\u001b[0m\u001b[1;33m)\u001b[0m\u001b[1;33m\u001b[0m\u001b[1;33m\u001b[0m\u001b[0m\n\u001b[0;32m   5987\u001b[0m         ):\n\u001b[0;32m   5988\u001b[0m             \u001b[1;32mreturn\u001b[0m \u001b[0mself\u001b[0m\u001b[1;33m[\u001b[0m\u001b[0mname\u001b[0m\u001b[1;33m]\u001b[0m\u001b[1;33m\u001b[0m\u001b[1;33m\u001b[0m\u001b[0m\n\u001b[1;32m-> 5989\u001b[1;33m         \u001b[1;32mreturn\u001b[0m \u001b[0mobject\u001b[0m\u001b[1;33m.\u001b[0m\u001b[0m__getattribute__\u001b[0m\u001b[1;33m(\u001b[0m\u001b[0mself\u001b[0m\u001b[1;33m,\u001b[0m \u001b[0mname\u001b[0m\u001b[1;33m)\u001b[0m\u001b[1;33m\u001b[0m\u001b[1;33m\u001b[0m\u001b[0m\n\u001b[0m",
      "\u001b[1;31mAttributeError\u001b[0m: 'DataFrame' object has no attribute 'ix'"
     ]
    }
   ],
   "source": [
    "import pandas as pd\n",
    "import numpy as np\n",
    "\n",
    "df = pd.DataFrame(np.random.randn(8, 4), columns = ['A', 'B', 'C', 'D'])\n",
    "\n",
    "# Integer slicing  \n",
    "print (df.ix[:4])"
   ]
  },
  {
   "cell_type": "code",
   "execution_count": 34,
   "id": "691eb5b9",
   "metadata": {},
   "outputs": [],
   "source": [
    "#Note − .iloc() & .ix() applies the same indexing options and Return value.\n",
    "#Object\tIndexers\tReturn Type\n",
    "#Series\ts.loc[indexer]\tScalar value\n",
    "#DataFrame\tdf.loc[row_index,col_index]\tSeries object\n",
    "#Panel\tp.loc[item_index,major_index, minor_index]\tp.loc[item_index,major_index, minor_index]"
   ]
  },
  {
   "cell_type": "code",
   "execution_count": 38,
   "id": "7f68383b",
   "metadata": {},
   "outputs": [
    {
     "name": "stdout",
     "output_type": "stream",
     "text": [
      "          A         B\n",
      "0 -0.241672  1.238323\n",
      "1 -0.532862  0.723068\n",
      "2  1.597871  0.044662\n",
      "3 -0.045459  0.593453\n",
      "4 -1.030036  0.775288\n",
      "5 -0.512802 -0.437668\n",
      "6 -0.693531  0.183161\n",
      "7  1.794639  0.230471\n"
     ]
    }
   ],
   "source": [
    "#Note − We can pass a list of values to [ ] to select those columns.\n",
    "import pandas as pd\n",
    "import numpy as np\n",
    "df = pd.DataFrame(np.random.randn(8, 4), columns = ['A', 'B', 'C', 'D'])\n",
    "\n",
    "print (df[['A','B']])"
   ]
  },
  {
   "cell_type": "code",
   "execution_count": 37,
   "id": "834adb03",
   "metadata": {},
   "outputs": [
    {
     "name": "stdout",
     "output_type": "stream",
     "text": [
      "0   -0.194003\n",
      "1    0.093500\n",
      "2   -1.412455\n",
      "3   -0.151540\n",
      "4    0.360199\n",
      "5    1.278619\n",
      "6   -1.459043\n",
      "7    0.132020\n",
      "Name: A, dtype: float64\n"
     ]
    }
   ],
   "source": [
    "#Attribute Access:Columns can be selected using the attribute operator '.'.\n",
    "import pandas as pd\n",
    "import numpy as np\n",
    "df = pd.DataFrame(np.random.randn(8, 4), columns = ['A', 'B', 'C', 'D'])\n",
    "\n",
    "print (df.A)"
   ]
  },
  {
   "cell_type": "code",
   "execution_count": null,
   "id": "36e8106b",
   "metadata": {},
   "outputs": [],
   "source": []
  }
 ],
 "metadata": {
  "kernelspec": {
   "display_name": "Python 3 (ipykernel)",
   "language": "python",
   "name": "python3"
  },
  "language_info": {
   "codemirror_mode": {
    "name": "ipython",
    "version": 3
   },
   "file_extension": ".py",
   "mimetype": "text/x-python",
   "name": "python",
   "nbconvert_exporter": "python",
   "pygments_lexer": "ipython3",
   "version": "3.11.5"
  }
 },
 "nbformat": 4,
 "nbformat_minor": 5
}
