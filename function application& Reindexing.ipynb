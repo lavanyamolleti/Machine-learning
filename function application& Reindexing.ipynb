{
 "cells": [
  {
   "cell_type": "code",
   "execution_count": 1,
   "id": "4e15ce5a",
   "metadata": {},
   "outputs": [],
   "source": [
    "##Table wise Function Application: pipe()\n",
    "#Row or Column Wise Function Application: apply()\n",
    "#Element wise Function Application: applymap()"
   ]
  },
  {
   "cell_type": "code",
   "execution_count": 8,
   "id": "b5af561c",
   "metadata": {},
   "outputs": [
    {
     "name": "stdout",
     "output_type": "stream",
     "text": [
      "col1    0.345103\n",
      "col2    0.030132\n",
      "col3    0.146640\n",
      "dtype: float64\n"
     ]
    }
   ],
   "source": [
    "import pandas as pd\n",
    "import numpy as np\n",
    "\n",
    "def adder(ele1,ele2):\n",
    "   return ele1+ele2\n",
    "\n",
    "df = pd.DataFrame(np.random.randn(5,3),columns=['col1','col2','col3'])\n",
    "df.pipe(adder,2)\n",
    "print (df.apply(np.mean))"
   ]
  },
  {
   "cell_type": "code",
   "execution_count": 4,
   "id": "cb3c83b6",
   "metadata": {},
   "outputs": [
    {
     "name": "stdout",
     "output_type": "stream",
     "text": [
      "col1   -0.177305\n",
      "col2   -0.126851\n",
      "col3   -0.503814\n",
      "dtype: float64\n"
     ]
    }
   ],
   "source": [
    "import pandas as pd\n",
    "import numpy as np        ###########Apply()  FUNCTION for row or col  wise fun\n",
    "\n",
    "def adder(ele1,ele2):\n",
    "   return ele1+ele2\n",
    "\n",
    "df = pd.DataFrame(np.random.randn(5,3),columns=['col1','col2','col3'])\n",
    "df.pipe(adder,2)  ####pipe()---->table wise f/n application\n",
    "print (df.apply(np.mean))"
   ]
  },
  {
   "cell_type": "code",
   "execution_count": 3,
   "id": "2592ad11",
   "metadata": {},
   "outputs": [
    {
     "name": "stdout",
     "output_type": "stream",
     "text": [
      "col1    0.496981\n",
      "col2    0.508337\n",
      "col3   -0.075454\n",
      "dtype: float64\n"
     ]
    }
   ],
   "source": [
    "import pandas as pd\n",
    "import numpy as np\n",
    "## here rnadom f/n generates 5rows,3col df labeled col1.. thean as no axis mentioned apply () used  row or col wise operation\n",
    "df = pd.DataFrame(np.random.randn(5,3),columns=['col1','col2','col3'])\n",
    "df.apply(np.mean)\n",
    "print( df.apply(np.mean))"
   ]
  },
  {
   "cell_type": "code",
   "execution_count": 6,
   "id": "5cb48275",
   "metadata": {},
   "outputs": [
    {
     "data": {
      "text/plain": [
       "0    0.539184\n",
       "1    1.553218\n",
       "2    0.264575\n",
       "3    0.170753\n",
       "4   -0.042826\n",
       "Name: col1, dtype: float64"
      ]
     },
     "execution_count": 6,
     "metadata": {},
     "output_type": "execute_result"
    }
   ],
   "source": [
    "df['col1']"
   ]
  },
  {
   "cell_type": "code",
   "execution_count": 7,
   "id": "17deff00",
   "metadata": {},
   "outputs": [
    {
     "data": {
      "text/html": [
       "<div>\n",
       "<style scoped>\n",
       "    .dataframe tbody tr th:only-of-type {\n",
       "        vertical-align: middle;\n",
       "    }\n",
       "\n",
       "    .dataframe tbody tr th {\n",
       "        vertical-align: top;\n",
       "    }\n",
       "\n",
       "    .dataframe thead th {\n",
       "        text-align: right;\n",
       "    }\n",
       "</style>\n",
       "<table border=\"1\" class=\"dataframe\">\n",
       "  <thead>\n",
       "    <tr style=\"text-align: right;\">\n",
       "      <th></th>\n",
       "      <th>col1</th>\n",
       "      <th>col2</th>\n",
       "      <th>col3</th>\n",
       "    </tr>\n",
       "  </thead>\n",
       "  <tbody>\n",
       "    <tr>\n",
       "      <th>0</th>\n",
       "      <td>0.539184</td>\n",
       "      <td>0.609707</td>\n",
       "      <td>-0.427534</td>\n",
       "    </tr>\n",
       "    <tr>\n",
       "      <th>1</th>\n",
       "      <td>1.553218</td>\n",
       "      <td>0.358618</td>\n",
       "      <td>-0.221130</td>\n",
       "    </tr>\n",
       "    <tr>\n",
       "      <th>2</th>\n",
       "      <td>0.264575</td>\n",
       "      <td>0.624231</td>\n",
       "      <td>1.219462</td>\n",
       "    </tr>\n",
       "    <tr>\n",
       "      <th>3</th>\n",
       "      <td>0.170753</td>\n",
       "      <td>0.363791</td>\n",
       "      <td>-0.452284</td>\n",
       "    </tr>\n",
       "    <tr>\n",
       "      <th>4</th>\n",
       "      <td>-0.042826</td>\n",
       "      <td>0.585340</td>\n",
       "      <td>-0.495784</td>\n",
       "    </tr>\n",
       "  </tbody>\n",
       "</table>\n",
       "</div>"
      ],
      "text/plain": [
       "       col1      col2      col3\n",
       "0  0.539184  0.609707 -0.427534\n",
       "1  1.553218  0.358618 -0.221130\n",
       "2  0.264575  0.624231  1.219462\n",
       "3  0.170753  0.363791 -0.452284\n",
       "4 -0.042826  0.585340 -0.495784"
      ]
     },
     "execution_count": 7,
     "metadata": {},
     "output_type": "execute_result"
    }
   ],
   "source": [
    "df"
   ]
  },
  {
   "cell_type": "code",
   "execution_count": 8,
   "id": "7427b3f4",
   "metadata": {},
   "outputs": [
    {
     "data": {
      "text/plain": [
       "0    0.609707\n",
       "1    0.358618\n",
       "2    0.624231\n",
       "3    0.363791\n",
       "4    0.585340\n",
       "Name: col2, dtype: float64"
      ]
     },
     "execution_count": 8,
     "metadata": {},
     "output_type": "execute_result"
    }
   ],
   "source": [
    "df['col2']"
   ]
  },
  {
   "cell_type": "code",
   "execution_count": 10,
   "id": "c87129a7",
   "metadata": {},
   "outputs": [
    {
     "name": "stdout",
     "output_type": "stream",
     "text": [
      "col1    0.378166\n",
      "col2    0.186677\n",
      "col3   -0.181104\n",
      "dtype: float64\n"
     ]
    }
   ],
   "source": [
    "import pandas as pd\n",
    "import numpy as np\n",
    "\n",
    "df = pd.DataFrame(np.random.randn(5,3),columns=['col1','col2','col3'])\n",
    "df.apply(np.mean,axis=1)\n",
    "print (df.apply(np.mean))"
   ]
  },
  {
   "cell_type": "code",
   "execution_count": 12,
   "id": "b5cc2153",
   "metadata": {},
   "outputs": [
    {
     "data": {
      "text/html": [
       "<div>\n",
       "<style scoped>\n",
       "    .dataframe tbody tr th:only-of-type {\n",
       "        vertical-align: middle;\n",
       "    }\n",
       "\n",
       "    .dataframe tbody tr th {\n",
       "        vertical-align: top;\n",
       "    }\n",
       "\n",
       "    .dataframe thead th {\n",
       "        text-align: right;\n",
       "    }\n",
       "</style>\n",
       "<table border=\"1\" class=\"dataframe\">\n",
       "  <thead>\n",
       "    <tr style=\"text-align: right;\">\n",
       "      <th></th>\n",
       "      <th>col1</th>\n",
       "      <th>col2</th>\n",
       "      <th>col3</th>\n",
       "    </tr>\n",
       "  </thead>\n",
       "  <tbody>\n",
       "    <tr>\n",
       "      <th>0</th>\n",
       "      <td>0.786698</td>\n",
       "      <td>0.717207</td>\n",
       "      <td>-1.229570</td>\n",
       "    </tr>\n",
       "    <tr>\n",
       "      <th>1</th>\n",
       "      <td>0.254971</td>\n",
       "      <td>-0.429167</td>\n",
       "      <td>1.265057</td>\n",
       "    </tr>\n",
       "    <tr>\n",
       "      <th>2</th>\n",
       "      <td>-0.358715</td>\n",
       "      <td>1.266786</td>\n",
       "      <td>-0.325947</td>\n",
       "    </tr>\n",
       "    <tr>\n",
       "      <th>3</th>\n",
       "      <td>-0.721271</td>\n",
       "      <td>0.342485</td>\n",
       "      <td>0.260677</td>\n",
       "    </tr>\n",
       "    <tr>\n",
       "      <th>4</th>\n",
       "      <td>1.929148</td>\n",
       "      <td>-0.963925</td>\n",
       "      <td>-0.875739</td>\n",
       "    </tr>\n",
       "  </tbody>\n",
       "</table>\n",
       "</div>"
      ],
      "text/plain": [
       "       col1      col2      col3\n",
       "0  0.786698  0.717207 -1.229570\n",
       "1  0.254971 -0.429167  1.265057\n",
       "2 -0.358715  1.266786 -0.325947\n",
       "3 -0.721271  0.342485  0.260677\n",
       "4  1.929148 -0.963925 -0.875739"
      ]
     },
     "execution_count": 12,
     "metadata": {},
     "output_type": "execute_result"
    }
   ],
   "source": [
    "df"
   ]
  },
  {
   "cell_type": "code",
   "execution_count": 13,
   "id": "ac503257",
   "metadata": {},
   "outputs": [],
   "source": [
    "import pandas as pd\n",
    "\n",
    "data = {'A': [1, 2, 3], 'B': [4, 5, 6]}\n",
    "df = pd.DataFrame(data)\n",
    "\n",
    "# Calculate sum along columns (axis=0)\n",
    "column_sum = df.sum(axis=0)\n",
    "\n",
    "# Calculate sum along rows (axis=1)\n",
    "row_sum = df.sum(axis=1)"
   ]
  },
  {
   "cell_type": "code",
   "execution_count": 14,
   "id": "796df082",
   "metadata": {},
   "outputs": [
    {
     "data": {
      "text/html": [
       "<div>\n",
       "<style scoped>\n",
       "    .dataframe tbody tr th:only-of-type {\n",
       "        vertical-align: middle;\n",
       "    }\n",
       "\n",
       "    .dataframe tbody tr th {\n",
       "        vertical-align: top;\n",
       "    }\n",
       "\n",
       "    .dataframe thead th {\n",
       "        text-align: right;\n",
       "    }\n",
       "</style>\n",
       "<table border=\"1\" class=\"dataframe\">\n",
       "  <thead>\n",
       "    <tr style=\"text-align: right;\">\n",
       "      <th></th>\n",
       "      <th>A</th>\n",
       "      <th>B</th>\n",
       "    </tr>\n",
       "  </thead>\n",
       "  <tbody>\n",
       "    <tr>\n",
       "      <th>0</th>\n",
       "      <td>1</td>\n",
       "      <td>4</td>\n",
       "    </tr>\n",
       "    <tr>\n",
       "      <th>1</th>\n",
       "      <td>2</td>\n",
       "      <td>5</td>\n",
       "    </tr>\n",
       "    <tr>\n",
       "      <th>2</th>\n",
       "      <td>3</td>\n",
       "      <td>6</td>\n",
       "    </tr>\n",
       "  </tbody>\n",
       "</table>\n",
       "</div>"
      ],
      "text/plain": [
       "   A  B\n",
       "0  1  4\n",
       "1  2  5\n",
       "2  3  6"
      ]
     },
     "execution_count": 14,
     "metadata": {},
     "output_type": "execute_result"
    }
   ],
   "source": [
    "df"
   ]
  },
  {
   "cell_type": "code",
   "execution_count": 15,
   "id": "5cd1dc8c",
   "metadata": {},
   "outputs": [
    {
     "data": {
      "text/plain": [
       "0    5\n",
       "1    7\n",
       "2    9\n",
       "dtype: int64"
      ]
     },
     "execution_count": 15,
     "metadata": {},
     "output_type": "execute_result"
    }
   ],
   "source": [
    "row_sum"
   ]
  },
  {
   "cell_type": "code",
   "execution_count": 17,
   "id": "d94b18d4",
   "metadata": {},
   "outputs": [
    {
     "data": {
      "text/plain": [
       "A     6\n",
       "B    15\n",
       "dtype: int64"
      ]
     },
     "execution_count": 17,
     "metadata": {},
     "output_type": "execute_result"
    }
   ],
   "source": [
    "column_sum"
   ]
  },
  {
   "cell_type": "code",
   "execution_count": 18,
   "id": "4361534d",
   "metadata": {},
   "outputs": [],
   "source": [
    "import pandas as pd\n",
    "\n",
    "data = {'A': [1, 2, 3], 'B': [4, 5, 6]}\n",
    "df = pd.DataFrame(data)\n",
    "\n",
    "# Calculate sum along columns (axis=0) ### axis =0 means rows vertical\n",
    "column_sum = df.mean(axis=0)\n",
    "\n",
    "# Calculate sum along rows (axis=1) ## axis=1 means colmns horzi\n",
    "row_sum = df.mean(axis=1)"
   ]
  },
  {
   "cell_type": "code",
   "execution_count": 19,
   "id": "6cf16f31",
   "metadata": {},
   "outputs": [
    {
     "data": {
      "text/html": [
       "<div>\n",
       "<style scoped>\n",
       "    .dataframe tbody tr th:only-of-type {\n",
       "        vertical-align: middle;\n",
       "    }\n",
       "\n",
       "    .dataframe tbody tr th {\n",
       "        vertical-align: top;\n",
       "    }\n",
       "\n",
       "    .dataframe thead th {\n",
       "        text-align: right;\n",
       "    }\n",
       "</style>\n",
       "<table border=\"1\" class=\"dataframe\">\n",
       "  <thead>\n",
       "    <tr style=\"text-align: right;\">\n",
       "      <th></th>\n",
       "      <th>A</th>\n",
       "      <th>B</th>\n",
       "    </tr>\n",
       "  </thead>\n",
       "  <tbody>\n",
       "    <tr>\n",
       "      <th>0</th>\n",
       "      <td>1</td>\n",
       "      <td>4</td>\n",
       "    </tr>\n",
       "    <tr>\n",
       "      <th>1</th>\n",
       "      <td>2</td>\n",
       "      <td>5</td>\n",
       "    </tr>\n",
       "    <tr>\n",
       "      <th>2</th>\n",
       "      <td>3</td>\n",
       "      <td>6</td>\n",
       "    </tr>\n",
       "  </tbody>\n",
       "</table>\n",
       "</div>"
      ],
      "text/plain": [
       "   A  B\n",
       "0  1  4\n",
       "1  2  5\n",
       "2  3  6"
      ]
     },
     "execution_count": 19,
     "metadata": {},
     "output_type": "execute_result"
    }
   ],
   "source": [
    "df"
   ]
  },
  {
   "cell_type": "code",
   "execution_count": 20,
   "id": "ed943317",
   "metadata": {},
   "outputs": [
    {
     "data": {
      "text/plain": [
       "0    2.5\n",
       "1    3.5\n",
       "2    4.5\n",
       "dtype: float64"
      ]
     },
     "execution_count": 20,
     "metadata": {},
     "output_type": "execute_result"
    }
   ],
   "source": [
    "row_sum"
   ]
  },
  {
   "cell_type": "code",
   "execution_count": 21,
   "id": "66cdad3b",
   "metadata": {},
   "outputs": [
    {
     "data": {
      "text/plain": [
       "A    2.0\n",
       "B    5.0\n",
       "dtype: float64"
      ]
     },
     "execution_count": 21,
     "metadata": {},
     "output_type": "execute_result"
    }
   ],
   "source": [
    "column_sum"
   ]
  },
  {
   "cell_type": "code",
   "execution_count": 22,
   "id": "e88c0461",
   "metadata": {},
   "outputs": [
    {
     "name": "stdout",
     "output_type": "stream",
     "text": [
      "[1, 4, 9, 16, 25]\n"
     ]
    }
   ],
   "source": [
    "numbers = [1, 2, 3, 4, 5] \n",
    "squared = map(lambda x: x**2, numbers) ##here each number or element will be mapped i.e opertaion is executed on each element\n",
    "squared_list = list(squared) # so each element squared\n",
    "print(squared_list)"
   ]
  },
  {
   "cell_type": "code",
   "execution_count": 23,
   "id": "3c99aa99",
   "metadata": {},
   "outputs": [],
   "source": [
    "###applymap() on DataFrame and analogously map() on Series accept any Python function taking a single value and returning a single value."
   ]
  },
  {
   "cell_type": "code",
   "execution_count": 38,
   "id": "114280ea",
   "metadata": {},
   "outputs": [
    {
     "name": "stdout",
     "output_type": "stream",
     "text": [
      "col1    0.550981\n",
      "col2   -0.058343\n",
      "col3   -0.265943\n",
      "dtype: float64\n"
     ]
    }
   ],
   "source": [
    "import pandas as pd\n",
    "import numpy as np\n",
    "\n",
    "# My custom function\n",
    "df = pd.DataFrame(np.random.randn(5,3),columns=['col1','col2','col3'])\n",
    "df.applymap(lambda x:x*100)\n",
    "print (df.apply(np.mean))\n"
   ]
  },
  {
   "cell_type": "code",
   "execution_count": 39,
   "id": "19c5b9fa",
   "metadata": {},
   "outputs": [
    {
     "data": {
      "text/html": [
       "<div>\n",
       "<style scoped>\n",
       "    .dataframe tbody tr th:only-of-type {\n",
       "        vertical-align: middle;\n",
       "    }\n",
       "\n",
       "    .dataframe tbody tr th {\n",
       "        vertical-align: top;\n",
       "    }\n",
       "\n",
       "    .dataframe thead th {\n",
       "        text-align: right;\n",
       "    }\n",
       "</style>\n",
       "<table border=\"1\" class=\"dataframe\">\n",
       "  <thead>\n",
       "    <tr style=\"text-align: right;\">\n",
       "      <th></th>\n",
       "      <th>col1</th>\n",
       "      <th>col2</th>\n",
       "      <th>col3</th>\n",
       "    </tr>\n",
       "  </thead>\n",
       "  <tbody>\n",
       "    <tr>\n",
       "      <th>0</th>\n",
       "      <td>0.317673</td>\n",
       "      <td>0.270195</td>\n",
       "      <td>-1.836402</td>\n",
       "    </tr>\n",
       "    <tr>\n",
       "      <th>1</th>\n",
       "      <td>1.251893</td>\n",
       "      <td>-2.064890</td>\n",
       "      <td>-0.101022</td>\n",
       "    </tr>\n",
       "    <tr>\n",
       "      <th>2</th>\n",
       "      <td>0.485762</td>\n",
       "      <td>-0.186603</td>\n",
       "      <td>-1.446597</td>\n",
       "    </tr>\n",
       "    <tr>\n",
       "      <th>3</th>\n",
       "      <td>1.340972</td>\n",
       "      <td>0.642770</td>\n",
       "      <td>0.312555</td>\n",
       "    </tr>\n",
       "    <tr>\n",
       "      <th>4</th>\n",
       "      <td>-0.641397</td>\n",
       "      <td>1.046812</td>\n",
       "      <td>1.741751</td>\n",
       "    </tr>\n",
       "  </tbody>\n",
       "</table>\n",
       "</div>"
      ],
      "text/plain": [
       "       col1      col2      col3\n",
       "0  0.317673  0.270195 -1.836402\n",
       "1  1.251893 -2.064890 -0.101022\n",
       "2  0.485762 -0.186603 -1.446597\n",
       "3  1.340972  0.642770  0.312555\n",
       "4 -0.641397  1.046812  1.741751"
      ]
     },
     "execution_count": 39,
     "metadata": {},
     "output_type": "execute_result"
    }
   ],
   "source": [
    "df"
   ]
  },
  {
   "cell_type": "code",
   "execution_count": 40,
   "id": "87a03597",
   "metadata": {},
   "outputs": [
    {
     "name": "stdout",
     "output_type": "stream",
     "text": [
      "0     31.767268\n",
      "1    125.189295\n",
      "2     48.576225\n",
      "3    134.097191\n",
      "4    -64.139725\n",
      "Name: col1, dtype: float64\n"
     ]
    }
   ],
   "source": [
    "print(df['col1'].map(lambda x:x*100))"
   ]
  },
  {
   "cell_type": "code",
   "execution_count": 41,
   "id": "5a1b424b",
   "metadata": {},
   "outputs": [
    {
     "data": {
      "text/plain": [
       "0    0.270195\n",
       "1   -2.064890\n",
       "2   -0.186603\n",
       "3    0.642770\n",
       "4    1.046812\n",
       "Name: col2, dtype: float64"
      ]
     },
     "execution_count": 41,
     "metadata": {},
     "output_type": "execute_result"
    }
   ],
   "source": [
    "df['col2']"
   ]
  },
  {
   "cell_type": "code",
   "execution_count": null,
   "id": "e85c81e0",
   "metadata": {},
   "outputs": [],
   "source": [
    "###REINDEXING:changes the row labels and column labels of a DataFrame."
   ]
  },
  {
   "cell_type": "code",
   "execution_count": 30,
   "id": "534ffc2c",
   "metadata": {},
   "outputs": [
    {
     "name": "stdout",
     "output_type": "stream",
     "text": [
      "           A     C   B\n",
      "0 2016-01-01  High NaN\n",
      "2 2016-01-03   Low NaN\n",
      "5 2016-01-06   Low NaN\n"
     ]
    }
   ],
   "source": [
    "import pandas as pd\n",
    "import numpy as np\n",
    "\n",
    "N=20\n",
    "\n",
    "df = pd.DataFrame({\n",
    "   'A': pd.date_range(start='2016-01-01',periods=N,freq='D'),#freq='D': Specifies the frequency of the dates. In this 'D' stands for day, so it generates daily dates.\n",
    "   'x': np.linspace(0,stop=N-1,num=N),\n",
    "   'y': np.random.rand(N),\n",
    "   'C': np.random.choice(['Low','Medium','High'],N).tolist(),# Tlist() Converts the NumPy array to a Python list.\n",
    "   'D': np.random.normal(100, 10, size=(N)).tolist()#np.random.normal(center,width i,e spread,size) function from the NumPy library is used to generate random samples from a normal (Gaussian) distribution. \n",
    "})\n",
    "\n",
    "#reindex the DataFrame\n",
    "df_reindexed = df.reindex(index=[0,2,5], columns=['A', 'C', 'B'])\n",
    "\n",
    "print (df_reindexed)"
   ]
  },
  {
   "cell_type": "code",
   "execution_count": 31,
   "id": "9f9893e5",
   "metadata": {},
   "outputs": [
    {
     "data": {
      "text/html": [
       "<div>\n",
       "<style scoped>\n",
       "    .dataframe tbody tr th:only-of-type {\n",
       "        vertical-align: middle;\n",
       "    }\n",
       "\n",
       "    .dataframe tbody tr th {\n",
       "        vertical-align: top;\n",
       "    }\n",
       "\n",
       "    .dataframe thead th {\n",
       "        text-align: right;\n",
       "    }\n",
       "</style>\n",
       "<table border=\"1\" class=\"dataframe\">\n",
       "  <thead>\n",
       "    <tr style=\"text-align: right;\">\n",
       "      <th></th>\n",
       "      <th>A</th>\n",
       "      <th>x</th>\n",
       "      <th>y</th>\n",
       "      <th>C</th>\n",
       "      <th>D</th>\n",
       "    </tr>\n",
       "  </thead>\n",
       "  <tbody>\n",
       "    <tr>\n",
       "      <th>0</th>\n",
       "      <td>2016-01-01</td>\n",
       "      <td>0.0</td>\n",
       "      <td>0.387946</td>\n",
       "      <td>High</td>\n",
       "      <td>95.245096</td>\n",
       "    </tr>\n",
       "    <tr>\n",
       "      <th>1</th>\n",
       "      <td>2016-01-02</td>\n",
       "      <td>1.0</td>\n",
       "      <td>0.617312</td>\n",
       "      <td>Medium</td>\n",
       "      <td>96.419040</td>\n",
       "    </tr>\n",
       "    <tr>\n",
       "      <th>2</th>\n",
       "      <td>2016-01-03</td>\n",
       "      <td>2.0</td>\n",
       "      <td>0.986290</td>\n",
       "      <td>Low</td>\n",
       "      <td>110.586591</td>\n",
       "    </tr>\n",
       "    <tr>\n",
       "      <th>3</th>\n",
       "      <td>2016-01-04</td>\n",
       "      <td>3.0</td>\n",
       "      <td>0.298067</td>\n",
       "      <td>Low</td>\n",
       "      <td>106.649882</td>\n",
       "    </tr>\n",
       "    <tr>\n",
       "      <th>4</th>\n",
       "      <td>2016-01-05</td>\n",
       "      <td>4.0</td>\n",
       "      <td>0.138834</td>\n",
       "      <td>Medium</td>\n",
       "      <td>111.248582</td>\n",
       "    </tr>\n",
       "    <tr>\n",
       "      <th>5</th>\n",
       "      <td>2016-01-06</td>\n",
       "      <td>5.0</td>\n",
       "      <td>0.728325</td>\n",
       "      <td>Low</td>\n",
       "      <td>101.689669</td>\n",
       "    </tr>\n",
       "    <tr>\n",
       "      <th>6</th>\n",
       "      <td>2016-01-07</td>\n",
       "      <td>6.0</td>\n",
       "      <td>0.749576</td>\n",
       "      <td>Medium</td>\n",
       "      <td>83.769603</td>\n",
       "    </tr>\n",
       "    <tr>\n",
       "      <th>7</th>\n",
       "      <td>2016-01-08</td>\n",
       "      <td>7.0</td>\n",
       "      <td>0.501577</td>\n",
       "      <td>Low</td>\n",
       "      <td>106.178921</td>\n",
       "    </tr>\n",
       "    <tr>\n",
       "      <th>8</th>\n",
       "      <td>2016-01-09</td>\n",
       "      <td>8.0</td>\n",
       "      <td>0.689170</td>\n",
       "      <td>High</td>\n",
       "      <td>98.974751</td>\n",
       "    </tr>\n",
       "    <tr>\n",
       "      <th>9</th>\n",
       "      <td>2016-01-10</td>\n",
       "      <td>9.0</td>\n",
       "      <td>0.882386</td>\n",
       "      <td>High</td>\n",
       "      <td>94.715482</td>\n",
       "    </tr>\n",
       "    <tr>\n",
       "      <th>10</th>\n",
       "      <td>2016-01-11</td>\n",
       "      <td>10.0</td>\n",
       "      <td>0.223585</td>\n",
       "      <td>Medium</td>\n",
       "      <td>88.853942</td>\n",
       "    </tr>\n",
       "    <tr>\n",
       "      <th>11</th>\n",
       "      <td>2016-01-12</td>\n",
       "      <td>11.0</td>\n",
       "      <td>0.132536</td>\n",
       "      <td>Medium</td>\n",
       "      <td>101.038833</td>\n",
       "    </tr>\n",
       "    <tr>\n",
       "      <th>12</th>\n",
       "      <td>2016-01-13</td>\n",
       "      <td>12.0</td>\n",
       "      <td>0.719173</td>\n",
       "      <td>Low</td>\n",
       "      <td>100.259030</td>\n",
       "    </tr>\n",
       "    <tr>\n",
       "      <th>13</th>\n",
       "      <td>2016-01-14</td>\n",
       "      <td>13.0</td>\n",
       "      <td>0.340558</td>\n",
       "      <td>Low</td>\n",
       "      <td>99.531296</td>\n",
       "    </tr>\n",
       "    <tr>\n",
       "      <th>14</th>\n",
       "      <td>2016-01-15</td>\n",
       "      <td>14.0</td>\n",
       "      <td>0.529750</td>\n",
       "      <td>Low</td>\n",
       "      <td>111.540856</td>\n",
       "    </tr>\n",
       "    <tr>\n",
       "      <th>15</th>\n",
       "      <td>2016-01-16</td>\n",
       "      <td>15.0</td>\n",
       "      <td>0.756869</td>\n",
       "      <td>High</td>\n",
       "      <td>97.521433</td>\n",
       "    </tr>\n",
       "    <tr>\n",
       "      <th>16</th>\n",
       "      <td>2016-01-17</td>\n",
       "      <td>16.0</td>\n",
       "      <td>0.435401</td>\n",
       "      <td>High</td>\n",
       "      <td>102.532052</td>\n",
       "    </tr>\n",
       "    <tr>\n",
       "      <th>17</th>\n",
       "      <td>2016-01-18</td>\n",
       "      <td>17.0</td>\n",
       "      <td>0.948227</td>\n",
       "      <td>Medium</td>\n",
       "      <td>96.249135</td>\n",
       "    </tr>\n",
       "    <tr>\n",
       "      <th>18</th>\n",
       "      <td>2016-01-19</td>\n",
       "      <td>18.0</td>\n",
       "      <td>0.175434</td>\n",
       "      <td>Medium</td>\n",
       "      <td>103.593283</td>\n",
       "    </tr>\n",
       "    <tr>\n",
       "      <th>19</th>\n",
       "      <td>2016-01-20</td>\n",
       "      <td>19.0</td>\n",
       "      <td>0.880579</td>\n",
       "      <td>Medium</td>\n",
       "      <td>92.376632</td>\n",
       "    </tr>\n",
       "  </tbody>\n",
       "</table>\n",
       "</div>"
      ],
      "text/plain": [
       "            A     x         y       C           D\n",
       "0  2016-01-01   0.0  0.387946    High   95.245096\n",
       "1  2016-01-02   1.0  0.617312  Medium   96.419040\n",
       "2  2016-01-03   2.0  0.986290     Low  110.586591\n",
       "3  2016-01-04   3.0  0.298067     Low  106.649882\n",
       "4  2016-01-05   4.0  0.138834  Medium  111.248582\n",
       "5  2016-01-06   5.0  0.728325     Low  101.689669\n",
       "6  2016-01-07   6.0  0.749576  Medium   83.769603\n",
       "7  2016-01-08   7.0  0.501577     Low  106.178921\n",
       "8  2016-01-09   8.0  0.689170    High   98.974751\n",
       "9  2016-01-10   9.0  0.882386    High   94.715482\n",
       "10 2016-01-11  10.0  0.223585  Medium   88.853942\n",
       "11 2016-01-12  11.0  0.132536  Medium  101.038833\n",
       "12 2016-01-13  12.0  0.719173     Low  100.259030\n",
       "13 2016-01-14  13.0  0.340558     Low   99.531296\n",
       "14 2016-01-15  14.0  0.529750     Low  111.540856\n",
       "15 2016-01-16  15.0  0.756869    High   97.521433\n",
       "16 2016-01-17  16.0  0.435401    High  102.532052\n",
       "17 2016-01-18  17.0  0.948227  Medium   96.249135\n",
       "18 2016-01-19  18.0  0.175434  Medium  103.593283\n",
       "19 2016-01-20  19.0  0.880579  Medium   92.376632"
      ]
     },
     "execution_count": 31,
     "metadata": {},
     "output_type": "execute_result"
    }
   ],
   "source": [
    "df"
   ]
  },
  {
   "cell_type": "code",
   "execution_count": 42,
   "id": "688fcdab",
   "metadata": {},
   "outputs": [
    {
     "name": "stdout",
     "output_type": "stream",
     "text": [
      "       col1      col2      col3\n",
      "0  0.671969  0.478268  0.446302\n",
      "1  0.925935  0.699043  2.264241\n",
      "2 -0.300393  0.258807  1.216515\n",
      "3 -2.117842 -0.111626 -0.424552\n",
      "4  0.086390 -0.576980 -1.298501\n",
      "5 -0.640456 -0.164094  1.739840\n",
      "6  1.087987 -0.424595  0.633557\n"
     ]
    }
   ],
   "source": [
    "import pandas as pd\n",
    "import numpy as np\n",
    "\n",
    "df1 = pd.DataFrame(np.random.randn(10,3),columns=['col1','col2','col3'])\n",
    "df2 = pd.DataFrame(np.random.randn(7,3),columns=['col1','col2','col3'])\n",
    "\n",
    "df1 = df1.reindex_like(df2)#to change the index of a DataFrame to match the index of another DataFrame. \n",
    "print (df1)"
   ]
  },
  {
   "cell_type": "code",
   "execution_count": 44,
   "id": "83c19fe8",
   "metadata": {},
   "outputs": [
    {
     "data": {
      "text/html": [
       "<div>\n",
       "<style scoped>\n",
       "    .dataframe tbody tr th:only-of-type {\n",
       "        vertical-align: middle;\n",
       "    }\n",
       "\n",
       "    .dataframe tbody tr th {\n",
       "        vertical-align: top;\n",
       "    }\n",
       "\n",
       "    .dataframe thead th {\n",
       "        text-align: right;\n",
       "    }\n",
       "</style>\n",
       "<table border=\"1\" class=\"dataframe\">\n",
       "  <thead>\n",
       "    <tr style=\"text-align: right;\">\n",
       "      <th></th>\n",
       "      <th>col1</th>\n",
       "      <th>col2</th>\n",
       "      <th>col3</th>\n",
       "    </tr>\n",
       "  </thead>\n",
       "  <tbody>\n",
       "    <tr>\n",
       "      <th>0</th>\n",
       "      <td>0.093352</td>\n",
       "      <td>-0.009411</td>\n",
       "      <td>-0.986523</td>\n",
       "    </tr>\n",
       "    <tr>\n",
       "      <th>1</th>\n",
       "      <td>0.598546</td>\n",
       "      <td>1.046802</td>\n",
       "      <td>-1.881125</td>\n",
       "    </tr>\n",
       "    <tr>\n",
       "      <th>2</th>\n",
       "      <td>-0.254112</td>\n",
       "      <td>1.579877</td>\n",
       "      <td>-0.695877</td>\n",
       "    </tr>\n",
       "    <tr>\n",
       "      <th>3</th>\n",
       "      <td>-0.741129</td>\n",
       "      <td>1.115776</td>\n",
       "      <td>0.590612</td>\n",
       "    </tr>\n",
       "    <tr>\n",
       "      <th>4</th>\n",
       "      <td>0.770904</td>\n",
       "      <td>2.232122</td>\n",
       "      <td>1.441881</td>\n",
       "    </tr>\n",
       "    <tr>\n",
       "      <th>5</th>\n",
       "      <td>-0.449356</td>\n",
       "      <td>0.117395</td>\n",
       "      <td>0.169626</td>\n",
       "    </tr>\n",
       "    <tr>\n",
       "      <th>6</th>\n",
       "      <td>0.704301</td>\n",
       "      <td>-0.208711</td>\n",
       "      <td>0.236269</td>\n",
       "    </tr>\n",
       "  </tbody>\n",
       "</table>\n",
       "</div>"
      ],
      "text/plain": [
       "       col1      col2      col3\n",
       "0  0.093352 -0.009411 -0.986523\n",
       "1  0.598546  1.046802 -1.881125\n",
       "2 -0.254112  1.579877 -0.695877\n",
       "3 -0.741129  1.115776  0.590612\n",
       "4  0.770904  2.232122  1.441881\n",
       "5 -0.449356  0.117395  0.169626\n",
       "6  0.704301 -0.208711  0.236269"
      ]
     },
     "execution_count": 44,
     "metadata": {},
     "output_type": "execute_result"
    }
   ],
   "source": [
    "df2"
   ]
  },
  {
   "cell_type": "code",
   "execution_count": 45,
   "id": "8adab8b7",
   "metadata": {},
   "outputs": [
    {
     "name": "stdout",
     "output_type": "stream",
     "text": [
      "    B\n",
      "2 NaN\n",
      "3 NaN\n",
      "4 NaN\n"
     ]
    }
   ],
   "source": [
    "## df1.reindex_like(df2)\n",
    "import pandas as pd\n",
    "\n",
    "# Creating two example DataFrames with different indices\n",
    "df1 = pd.DataFrame({'A': [1, 2, 3]}, index=[1, 2, 3])\n",
    "df2 = pd.DataFrame({'B': [4, 5, 6]}, index=[2, 3, 4])\n",
    "\n",
    "# Reindexing df1 to match the index of df2\n",
    "df1 = df1.reindex_like(df2)\n",
    "# here df1 compares with df2 there is no match in indices so o/p is NaN \n",
    "print(df1)"
   ]
  },
  {
   "cell_type": "code",
   "execution_count": null,
   "id": "a6419ff7",
   "metadata": {},
   "outputs": [],
   "source": [
    "#pad/ffill − Fill values forward\n",
    "\n",
    "#bfill/backfill − Fill values backward\n",
    "\n",
    "#nearest − Fill from the nearest index values"
   ]
  },
  {
   "cell_type": "code",
   "execution_count": 47,
   "id": "079e44d4",
   "metadata": {},
   "outputs": [
    {
     "name": "stdout",
     "output_type": "stream",
     "text": [
      "       col1      col2      col3\n",
      "0 -1.431542  0.724989 -1.231080\n",
      "1  0.107928 -0.164539 -0.197619\n",
      "2       NaN       NaN       NaN\n",
      "3       NaN       NaN       NaN\n",
      "4       NaN       NaN       NaN\n",
      "5       NaN       NaN       NaN\n",
      "Data Frame with Forward Fill:\n",
      "       col1      col2      col3\n",
      "0 -1.431542  0.724989 -1.231080\n",
      "1  0.107928 -0.164539 -0.197619\n",
      "2  0.107928 -0.164539 -0.197619\n",
      "3  0.107928 -0.164539 -0.197619\n",
      "4  0.107928 -0.164539 -0.197619\n",
      "5  0.107928 -0.164539 -0.197619\n"
     ]
    }
   ],
   "source": [
    "import pandas as pd\n",
    "import numpy as np\n",
    "\n",
    "df1 = pd.DataFrame(np.random.randn(6,3),columns=['col1','col2','col3'])\n",
    "df2 = pd.DataFrame(np.random.randn(2,3),columns=['col1','col2','col3'])\n",
    "\n",
    "# Padding NAN's\n",
    "print (df2.reindex_like(df1))\n",
    "\n",
    "# Now Fill the NAN's with preceding Values\n",
    "print (\"Data Frame with Forward Fill:\")\n",
    "print (df2.reindex_like(df1,method='ffill'))"
   ]
  },
  {
   "cell_type": "code",
   "execution_count": 48,
   "id": "cc31ca57",
   "metadata": {},
   "outputs": [
    {
     "name": "stdout",
     "output_type": "stream",
     "text": [
      "       col1      col2      col3\n",
      "0 -0.395409 -2.059053 -0.702800\n",
      "1 -0.852158  0.765843  0.123326\n",
      "2       NaN       NaN       NaN\n",
      "3       NaN       NaN       NaN\n",
      "4       NaN       NaN       NaN\n",
      "5       NaN       NaN       NaN\n",
      "Data Frame with Forward Fill limiting to 1:\n",
      "       col1      col2      col3\n",
      "0 -0.395409 -2.059053 -0.702800\n",
      "1 -0.852158  0.765843  0.123326\n",
      "2 -0.852158  0.765843  0.123326\n",
      "3       NaN       NaN       NaN\n",
      "4       NaN       NaN       NaN\n",
      "5       NaN       NaN       NaN\n"
     ]
    }
   ],
   "source": [
    "import pandas as pd\n",
    "import numpy as np\n",
    " \n",
    "df1 = pd.DataFrame(np.random.randn(6,3),columns=['col1','col2','col3'])\n",
    "df2 = pd.DataFrame(np.random.randn(2,3),columns=['col1','col2','col3'])\n",
    "\n",
    "# Padding NAN's\n",
    "print (df2.reindex_like(df1))\n",
    "\n",
    "# Now Fill the NAN's with preceding Values\n",
    "print (\"Data Frame with Forward Fill limiting to 1:\")\n",
    "print (df2.reindex_like(df1,method='ffill',limit=1))"
   ]
  },
  {
   "cell_type": "code",
   "execution_count": 49,
   "id": "866cd58f",
   "metadata": {},
   "outputs": [],
   "source": [
    "#rename() method allows you to relabel an axis based on some mapping (a dict or Series) or an arbitrary function."
   ]
  },
  {
   "cell_type": "code",
   "execution_count": 50,
   "id": "69b4ff7e",
   "metadata": {},
   "outputs": [
    {
     "name": "stdout",
     "output_type": "stream",
     "text": [
      "       col1      col2      col3\n",
      "0  0.663238 -0.060451 -0.800302\n",
      "1  2.582179 -2.085384 -0.890040\n",
      "2 -0.281200 -1.879414 -0.124148\n",
      "3 -1.317666  1.017804  0.576793\n",
      "4  0.130403  0.327313 -0.883603\n",
      "5 -0.600445  0.945890 -0.447972\n",
      "After renaming the rows and columns:\n",
      "              c1        c2      col3\n",
      "apple   0.663238 -0.060451 -0.800302\n",
      "banana  2.582179 -2.085384 -0.890040\n",
      "durian -0.281200 -1.879414 -0.124148\n",
      "3      -1.317666  1.017804  0.576793\n",
      "4       0.130403  0.327313 -0.883603\n",
      "5      -0.600445  0.945890 -0.447972\n"
     ]
    }
   ],
   "source": [
    "import pandas as pd\n",
    "import numpy as np\n",
    "\n",
    "df1 = pd.DataFrame(np.random.randn(6,3),columns=['col1','col2','col3'])\n",
    "print (df1)\n",
    "\n",
    "print (\"After renaming the rows and columns:\")\n",
    "print (df1.rename(columns={'col1' : 'c1', 'col2' : 'c2'},\n",
    "index = {0 : 'apple', 1 : 'banana', 2 : 'durian'}))"
   ]
  },
  {
   "cell_type": "code",
   "execution_count": null,
   "id": "117079c7",
   "metadata": {},
   "outputs": [],
   "source": []
  }
 ],
 "metadata": {
  "kernelspec": {
   "display_name": "Python 3 (ipykernel)",
   "language": "python",
   "name": "python3"
  },
  "language_info": {
   "codemirror_mode": {
    "name": "ipython",
    "version": 3
   },
   "file_extension": ".py",
   "mimetype": "text/x-python",
   "name": "python",
   "nbconvert_exporter": "python",
   "pygments_lexer": "ipython3",
   "version": "3.11.5"
  }
 },
 "nbformat": 4,
 "nbformat_minor": 5
}
