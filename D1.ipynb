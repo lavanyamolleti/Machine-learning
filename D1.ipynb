{
 "cells": [
  {
   "cell_type": "code",
   "execution_count": 2,
   "id": "10034e31",
   "metadata": {},
   "outputs": [
    {
     "name": "stdout",
     "output_type": "stream",
     "text": [
      "Enter start range: 10\n",
      "Enter end range: 20\n",
      "12 16 14 18 16 18 18 22 20 24 "
     ]
    }
   ],
   "source": [
    "st = int(input(\"Enter start range: \"))\n",
    "en = int(input(\"Enter end range: \"))\n",
    "for i in range(st,en):\n",
    "    if i%2==0:\n",
    "        print(i+2,end=\" \")\n",
    "    elif i%3==0:\n",
    "        print(i+3,end=\" \")\n",
    "    else:\n",
    "        print(i+5,end=\" \")"
   ]
  },
  {
   "cell_type": "code",
   "execution_count": 2,
   "id": "d1a573c7",
   "metadata": {},
   "outputs": [
    {
     "name": "stdout",
     "output_type": "stream",
     "text": [
      " \n"
     ]
    }
   ],
   "source": [
    "a = \"Hello, World!\"\n",
    "adjusted_index = 6\n",
    "print(a[adjusted_index])\n"
   ]
  },
  {
   "cell_type": "code",
   "execution_count": 3,
   "id": "35d3c91a",
   "metadata": {},
   "outputs": [
    {
     "name": "stdout",
     "output_type": "stream",
     "text": [
      "e\n"
     ]
    }
   ],
   "source": [
    "a=\"hello ,world!\"\n",
    "print(a[1])"
   ]
  },
  {
   "cell_type": "code",
   "execution_count": 4,
   "id": "9d710fcc",
   "metadata": {},
   "outputs": [
    {
     "name": "stdout",
     "output_type": "stream",
     "text": [
      "H\n"
     ]
    }
   ],
   "source": [
    "a = \"Hello, World!\"\n",
    "\n",
    "# Setting \"Hello\" as index 0\n",
    "substring = \"Hello\"\n",
    "adjusted_index = a.index(substring)\n",
    "\n",
    "# Accessing characters based on the adjusted index\n",
    "print(a[adjusted_index])  # Prints the first character af"
   ]
  },
  {
   "cell_type": "code",
   "execution_count": 5,
   "id": "6569d6ae",
   "metadata": {},
   "outputs": [
    {
     "name": "stdout",
     "output_type": "stream",
     "text": [
      "H\n"
     ]
    }
   ],
   "source": [
    "a = \"Hello, World!\"\n",
    "\n",
    "# Setting \"Hello\" as if it were at index 0\n",
    "hello_substring = \"Hello\"\n",
    "adjusted_index = a.index(hello_substring)\n",
    "adjusted_string = a[adjusted_index:]\n",
    "\n",
    "# Accessing characters based on the adjusted index\n",
    "print(adjusted_string[0])  # Prints the first character after \"Hello\"\n",
    "\n"
   ]
  },
  {
   "cell_type": "code",
   "execution_count": null,
   "id": "bba299ed",
   "metadata": {},
   "outputs": [],
   "source": []
  }
 ],
 "metadata": {
  "kernelspec": {
   "display_name": "Python 3 (ipykernel)",
   "language": "python",
   "name": "python3"
  },
  "language_info": {
   "codemirror_mode": {
    "name": "ipython",
    "version": 3
   },
   "file_extension": ".py",
   "mimetype": "text/x-python",
   "name": "python",
   "nbconvert_exporter": "python",
   "pygments_lexer": "ipython3",
   "version": "3.11.5"
  }
 },
 "nbformat": 4,
 "nbformat_minor": 5
}
