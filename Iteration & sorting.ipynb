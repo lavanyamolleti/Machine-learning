{
 "cells": [
  {
   "cell_type": "code",
   "execution_count": 1,
   "id": "3c96c4b3",
   "metadata": {},
   "outputs": [
    {
     "name": "stdout",
     "output_type": "stream",
     "text": [
      "A\n",
      "x\n",
      "y\n",
      "C\n",
      "D\n"
     ]
    }
   ],
   "source": [
    "import pandas as pd\n",
    "import numpy as np\n",
    " #If you want to iterate over both column names and corresponding data, you can use the items() method:\n",
    "N=20\n",
    "df = pd.DataFrame({\n",
    "   'A': pd.date_range(start='2016-01-01',periods=N,freq='D'),\n",
    "   'x': np.linspace(0,stop=N-1,num=N),\n",
    "   'y': np.random.rand(N),\n",
    "   'C': np.random.choice(['Low','Medium','High'],N).tolist(),\n",
    "   'D': np.random.normal(100, 10, size=(N)).tolist()\n",
    "   })\n",
    "\n",
    "for col in df:#, when you iterate over a DataFrame using a for loop without specifying any specific attribute, it iterates over the column names by default. \n",
    "   print (col)"
   ]
  },
  {
   "cell_type": "code",
   "execution_count": 4,
   "id": "cdd7d9d7",
   "metadata": {},
   "outputs": [
    {
     "name": "stdout",
     "output_type": "stream",
     "text": [
      "Pandas(Index=0, col1=1.1051024378280747, col2=0.9864879419844398)\n",
      "Pandas(Index=1, col1=-0.7884655368139593, col2=0.4447814780277222)\n",
      "Pandas(Index=2, col1=0.5854855816563567, col2=-0.12936158018179764)\n",
      "Pandas(Index=3, col1=-0.7402404371316057, col2=-0.004653792601260524)\n",
      "Pandas(Index=4, col1=-1.849477914057655, col2=1.5380208354619067)\n",
      "Pandas(Index=5, col1=0.9164610222823191, col2=-0.3002386786922921)\n"
     ]
    }
   ],
   "source": [
    "import pandas as pd\n",
    "import numpy as np\n",
    "\n",
    "df = pd.DataFrame(np.random.randn(6,2),columns = ['col1','col2'])# rand(index num,no of col)\n",
    "for row in df.itertuples(): #The first element of the tuple will be the row’s corresponding index value, while the remaining values are the row values.\n",
    "    print (row)"
   ]
  },
  {
   "cell_type": "code",
   "execution_count": 8,
   "id": "b1c00634",
   "metadata": {},
   "outputs": [
    {
     "name": "stdout",
     "output_type": "stream",
     "text": [
      "       col1      col2      col3\n",
      "0 -0.486303  0.183636  1.360338\n",
      "1  1.016604 -1.276049 -0.331980\n",
      "2 -0.147034  1.891887 -1.836718\n",
      "3 -0.264247  0.538389 -0.382445\n"
     ]
    }
   ],
   "source": [
    "import pandas as pd\n",
    "import numpy as np\n",
    "\n",
    "df = pd.DataFrame(np.random.randn(4,3),columns = ['col1','col2','col3'])\n",
    "\n",
    "for index, row in df.iterrows():\n",
    "   row['a'] = 0\n",
    "print (df)"
   ]
  },
  {
   "cell_type": "code",
   "execution_count": 15,
   "id": "bd9d9a58",
   "metadata": {},
   "outputs": [
    {
     "name": "stdout",
     "output_type": "stream",
     "text": [
      "<generator object DataFrame.iterrows at 0x0000022AA01FE680>\n"
     ]
    }
   ],
   "source": [
    "print(df.iterrows())"
   ]
  },
  {
   "cell_type": "code",
   "execution_count": null,
   "id": "851ba920",
   "metadata": {},
   "outputs": [],
   "source": [
    "## SORTING : whatever the sorting i.e row or col it doesn't the change values only names will sort acc to values\n",
    "#it will be done using 2 ways 1.label-->sort_index()sorting is done on row labels in ascending order.i.e index will be sort in ascending but not the value\n",
    "#2. by actual value"
   ]
  },
  {
   "cell_type": "code",
   "execution_count": 12,
   "id": "dca13cf0",
   "metadata": {},
   "outputs": [
    {
     "name": "stdout",
     "output_type": "stream",
     "text": [
      "       col2      col1\n",
      "0 -0.199485 -0.919039\n",
      "1  0.460070  0.212469\n",
      "2 -0.706593  1.986350\n",
      "3  0.503526  0.390601\n",
      "4 -0.612470  0.733709\n",
      "5 -0.163817  0.841102\n",
      "6 -1.726917  0.008490\n",
      "7 -0.932338  0.363113\n",
      "8  2.093934 -0.839768\n",
      "9 -0.127314  1.414716\n"
     ]
    }
   ],
   "source": [
    "import pandas as pd\n",
    "import numpy as np\n",
    "\n",
    "unsorted_df = pd.DataFrame(np.random.randn(10,2),index=[1,4,6,2,3,5,9,8,0,7],columns = ['col2','col1'])\n",
    "\n",
    "sorted_df=unsorted_df.sort_index()\n",
    "print (sorted_df)"
   ]
  },
  {
   "cell_type": "code",
   "execution_count": 14,
   "id": "a232b7e3",
   "metadata": {},
   "outputs": [
    {
     "name": "stdout",
     "output_type": "stream",
     "text": [
      "       col2      col1\n",
      "1  1.870088 -0.555229\n",
      "4  1.268294  0.102924\n",
      "6  0.488821 -0.686189\n",
      "2 -0.167121  1.757723\n",
      "3 -0.930928 -0.090171\n",
      "5  0.134936  1.011648\n",
      "9  0.826341  1.343578\n",
      "8 -0.879929 -2.741765\n",
      "0  0.379859  0.179047\n",
      "7 -1.310979 -0.396711\n"
     ]
    }
   ],
   "source": [
    "import pandas as pd\n",
    "import numpy as np\n",
    "\n",
    "unsorted_df = pd.DataFrame(np.random.randn(10,2),index=[1,4,6,2,3,5,9,8,0,7],columns = ['col2','col1'])\n",
    "\n",
    "#sorted_df=unsorted_df.sort_index()\n",
    "print (unsorted_df)"
   ]
  },
  {
   "cell_type": "code",
   "execution_count": 17,
   "id": "64e1b485",
   "metadata": {},
   "outputs": [
    {
     "name": "stdout",
     "output_type": "stream",
     "text": [
      "       col2      col1\n",
      "9  1.016597 -0.615404\n",
      "8  0.519777  1.024040\n",
      "7 -0.375025 -1.095531\n",
      "6  0.548629  0.464684\n",
      "5 -0.355996 -0.027203\n",
      "4  2.036553 -1.400172\n",
      "3  0.679705  0.202958\n",
      "2 -1.877722 -0.562050\n",
      "1  1.435425 -0.234974\n",
      "0  0.093867 -0.789102\n"
     ]
    }
   ],
   "source": [
    "import pandas as pd\n",
    "import numpy as np\n",
    "\n",
    "unsorted_df = pd.DataFrame(np.random.randn(10,2),index=[1,4,6,2,3,5,9,8,0,7],columns = ['col2','col1'])\n",
    "\n",
    "sorted_df = unsorted_df.sort_index(ascending=False)# asc=False for descending as default it will sort in asc only\n",
    "print( sorted_df)"
   ]
  },
  {
   "cell_type": "code",
   "execution_count": 18,
   "id": "4d8f77fe",
   "metadata": {},
   "outputs": [
    {
     "name": "stdout",
     "output_type": "stream",
     "text": [
      "       col1      col2\n",
      "1  0.455066  0.965759\n",
      "4 -0.756939 -0.265870\n",
      "6 -1.599084  0.767119\n",
      "2 -1.987647 -1.175972\n",
      "3  1.150441 -0.792850\n",
      "5  1.317934 -1.590890\n",
      "9  1.516539 -0.223994\n",
      "8 -0.689594 -1.005542\n",
      "0  0.180540 -0.317910\n",
      "7  0.122324  1.111467\n"
     ]
    }
   ],
   "source": [
    "# to sort col\n",
    "import pandas as pd\n",
    "import numpy as np\n",
    " \n",
    "unsorted_df = pd.DataFrame(np.random.randn(10,2),index=[1,4,6,2,3,5,9,8,0,7],columns = ['col2','col1'])\n",
    " \n",
    "sorted_df=unsorted_df.sort_index(axis=1) # by default axis =0  so it sort only rows i.e index observe only colnames arrangement changed but not the values\n",
    "\n",
    "print (sorted_df)"
   ]
  },
  {
   "cell_type": "code",
   "execution_count": 19,
   "id": "23107902",
   "metadata": {},
   "outputs": [
    {
     "name": "stdout",
     "output_type": "stream",
     "text": [
      "       col2      col1\n",
      "0 -0.974062 -0.373192\n",
      "1 -1.756164  0.044390\n",
      "2  0.513213 -1.311922\n",
      "3  1.400635 -0.763050\n",
      "4  1.229517  0.813321\n",
      "5  0.027553  0.746542\n",
      "6 -0.388150 -0.745528\n",
      "7  0.840348 -0.758584\n",
      "8 -1.270895  1.022417\n",
      "9  0.262540  0.479189\n"
     ]
    }
   ],
   "source": [
    "import pandas as pd\n",
    "import numpy as np\n",
    " \n",
    "unsorted_df = pd.DataFrame(np.random.randn(10,2),index=[1,4,6,2,3,5,9,8,0,7],columns = ['col2','col1'])\n",
    " \n",
    "sorted_df=unsorted_df.sort_index()\n",
    "\n",
    "print (sorted_df)"
   ]
  },
  {
   "cell_type": "code",
   "execution_count": 20,
   "id": "5af9cbd0",
   "metadata": {},
   "outputs": [],
   "source": [
    "# in method 2 i.e by  actual values  it will be sorted sort_values() is the method for sorting by values. It accepts a 'by' argument which will use the column name of the DataFrame with which the values are to be sorted."
   ]
  },
  {
   "cell_type": "code",
   "execution_count": 21,
   "id": "3d7455bb",
   "metadata": {},
   "outputs": [
    {
     "name": "stdout",
     "output_type": "stream",
     "text": [
      "   col1  col2\n",
      "1     1     3\n",
      "2     1     2\n",
      "3     1     4\n",
      "0     2     1\n"
     ]
    }
   ],
   "source": [
    "import pandas as pd\n",
    "import numpy as np\n",
    "\n",
    "unsorted_df = pd.DataFrame({'col1':[2,1,1,1],'col2':[1,3,2,4]})\n",
    "sorted_df = unsorted_df.sort_values(by='col1')# observe only col1 sorted but not col2\n",
    "\n",
    "print (sorted_df)"
   ]
  },
  {
   "cell_type": "code",
   "execution_count": 26,
   "id": "79a70469",
   "metadata": {},
   "outputs": [
    {
     "name": "stdout",
     "output_type": "stream",
     "text": [
      "   col1  col2\n",
      "2     1     2\n",
      "1     1     3\n",
      "3     1     4\n",
      "0     2     1\n"
     ]
    }
   ],
   "source": [
    "import pandas as pd\n",
    "import numpy as np\n",
    "\n",
    "unsorted_df = pd.DataFrame({'col1':[2,1,1,1],'col2':[1,3,2,4]})\n",
    "sorted_df = unsorted_df.sort_values(by=['col1','col2'])\n",
    "# both col values sorted\n",
    "print (sorted_df)"
   ]
  },
  {
   "cell_type": "code",
   "execution_count": 27,
   "id": "77ceb970",
   "metadata": {},
   "outputs": [],
   "source": [
    "# by using sorting algo also we can  sort\n",
    "#sort_values() provides a provision to choose the algorithm from \n",
    "#mergesort, heapsort and quicksort. Mergesort is the only stable algorithm."
   ]
  },
  {
   "cell_type": "code",
   "execution_count": 28,
   "id": "ae720fff",
   "metadata": {},
   "outputs": [
    {
     "name": "stdout",
     "output_type": "stream",
     "text": [
      "   col1  col2\n",
      "1     1     3\n",
      "2     1     2\n",
      "3     1     4\n",
      "0     2     1\n"
     ]
    }
   ],
   "source": [
    "import pandas as pd\n",
    "import numpy as np\n",
    "\n",
    "unsorted_df = pd.DataFrame({'col1':[2,1,1,1],'col2':[1,3,2,4]})\n",
    "sorted_df = unsorted_df.sort_values(by='col1' ,kind='mergesort')\n",
    "\n",
    "print (sorted_df)"
   ]
  },
  {
   "cell_type": "code",
   "execution_count": 30,
   "id": "7aca6c7a",
   "metadata": {},
   "outputs": [
    {
     "name": "stdout",
     "output_type": "stream",
     "text": [
      "   col1  col2\n",
      "1     1     3\n",
      "2     1     2\n",
      "3     1     4\n",
      "0     2     1\n"
     ]
    }
   ],
   "source": [
    "import pandas as pd\n",
    "import numpy as np\n",
    "\n",
    "unsorted_df = pd.DataFrame({'col1':[2,1,1,1],'col2':[1,3,2,4]})\n",
    "sorted_df = unsorted_df.sort_values(by='col1' ,kind='heapsort')\n",
    "\n",
    "print (sorted_df)"
   ]
  },
  {
   "cell_type": "code",
   "execution_count": null,
   "id": "42cafba5",
   "metadata": {},
   "outputs": [],
   "source": []
  }
 ],
 "metadata": {
  "kernelspec": {
   "display_name": "Python 3 (ipykernel)",
   "language": "python",
   "name": "python3"
  },
  "language_info": {
   "codemirror_mode": {
    "name": "ipython",
    "version": 3
   },
   "file_extension": ".py",
   "mimetype": "text/x-python",
   "name": "python",
   "nbconvert_exporter": "python",
   "pygments_lexer": "ipython3",
   "version": "3.11.5"
  }
 },
 "nbformat": 4,
 "nbformat_minor": 5
}
